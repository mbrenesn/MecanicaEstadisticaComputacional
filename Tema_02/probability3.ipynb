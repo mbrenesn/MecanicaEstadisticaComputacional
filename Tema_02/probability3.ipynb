{
 "cells": [
  {
   "cell_type": "markdown",
   "metadata": {},
   "source": [
    "### Expectación condicional y varianza condicional\n",
    "\n",
    "En física estadística, ciertos sistemas complejos se describen utilizando variables aleatorias que representan cierta cantidad física fluctuante; tales como energías, velocidad, ocupación de partículas, probabilidad de ocupación, etc.\n",
    "\n",
    "Es común desear entender el comportamiento del valor de expectación o la varianza de una variable que representa una cantidad física en un sistema físico, sujeto a la condición de alguna **información parcial**. Por ejemplo, algún valor de expectación y/o varianza sujetos a fijar; por ejemplo, la energía total, número de partículas o algún otro valor de expectación de otra variable.\n",
    "\n",
    "Es en estos casos en los cuales la expectación y la varianza condicional son importantes, al igual que entrar como herramientas centrales en simulación de procesos estocásticos."
   ]
  },
  {
   "cell_type": "markdown",
   "metadata": {},
   "source": [
    "#### Expectación condicional\n",
    "\n",
    "Sean $X$ y $Y$ dos variables aleatorias conjuntas. Definimos $E[X | Y = y]$ como la expectación condicional de $X$ dado $Y = y$, expresada como:\n",
    "- Para variables aleatorias discretas:\n",
    "\\begin{align}\n",
    "E[X | Y=y] &= \\sum_x x \\, P\\{X=x | Y=y\\} \\\\\n",
    "&= \\frac{\\sum_x x \\, P\\{X=x, Y=y\\}}{P\\{ Y = y\\}}\n",
    "\\end{align}\n",
    "\n",
    "- Para variables continuas:\n",
    "\\begin{align}\n",
    "E[X | Y=y] &= \\int x \\, f_{X|Y}(x|y) {\\textrm{d}}x \\\\\n",
    "&= \\frac{\\int x \\, f(x,y) {\\textrm{d}}x}{\\int f(x,y) {\\textrm{d}}x}\n",
    "\\end{align}\n",
    "\n",
    "En otras palabras, la expectación condicional corresponde al promedio pesado de todos los valores que $X$ puede tomar, pero **pesado con la probabilidad condicional de que $X = x$ dado que $Y = y$**."
   ]
  },
  {
   "cell_type": "markdown",
   "metadata": {},
   "source": [
    "Sea $E[X|Y]$ una función de la variable aleatoria $Y$, cuyo valor a $Y = y$ es $E[X | Y = y]$. Se puede notar que $E[X | Y]$ es en sí, **otra variable aleatoria**. \n",
    "\n",
    "**Proposición**\n",
    "$$\n",
    "E[E[X | Y]] = E[X]\n",
    "$$\n",
    "\n",
    "---\n",
    "\n",
    "Tenemos que si $Y$ es una variable aleatoria discreta, entonces la ecuación anterior es tal que\n",
    "$$\n",
    "E[X] = \\sum_y E[X | Y = y] P\\{ Y = y \\}.\n",
    "$$\n",
    "Para el caso continuo, si la PDF de la variable $Y$ es $g$, entonces\n",
    "$$\n",
    "E[X] = \\int E[X | Y = y] g(y) {\\textrm{d}}y.\n",
    "$$\n",
    "Para la prueba, consideremos el caso discreto:\n",
    "\\begin{align}\n",
    "\\sum_y E[X | Y = y] P\\{ Y = y \\} &= \\sum_y \\sum_x x P\\{ X = x | Y = y \\} P\\{ Y = y \\} \\\\\n",
    "&= \\sum_y \\sum_x x P\\{ X = x, Y = y \\} \\\\ \n",
    "&= \\sum_x x \\sum_y P\\{ X = x, Y = y \\} \\\\\n",
    "&= \\sum_x x P\\{X = x\\} \\\\\n",
    "&= E[X]\n",
    "\\end{align}"
   ]
  },
  {
   "cell_type": "markdown",
   "metadata": {},
   "source": [
    "#### Varianza condicional\n",
    "\n",
    "También podemos definir la varianza condicional de $X$ dado $Y$, de la forma\n",
    "$$\n",
    "{\\textrm{var}}[X | Y] = E[(X - E[X|Y])^2|Y],\n",
    "$$\n",
    "usando el mismo razonamiento que para la varianza sin condiciones, tenemos\n",
    "$$\n",
    "{\\textrm{var}}[X | Y] = E[X^2 | Y] - (E[X | Y])^2.\n",
    "$$\n",
    "¡Note que el lado izquierdo de la ecuación anterior es una variable aleatoria! Es interesante lo que obtenemos si calculamos el valor de expectación de esta variable. Veamos\n",
    "\\begin{align}\n",
    "E[{\\textrm{var}}[X | Y]] &= E[E[X^2 | Y]] - E[(E[X | Y])^2] \\\\\n",
    "&= E[X^2] - E[(E[X | Y])^2] \\tag{1}\n",
    "\\end{align}\n",
    "Luego, dado que $E[E[X | Y]] = E[X]$,\n",
    "$$\n",
    "{\\textrm{var}}[E[X | Y]] = E[(E[X|Y])^2] - (E[X])^2 \\tag{2}\n",
    "$$\n",
    "Sumando las ecuaciones (1) y (2), obtenemos la ecuación para la **varianza condicional**:\n",
    "$$\n",
    "{\\textrm{var}[X]} = E[\\textrm{var}[X | Y]] + \\textrm{var}[E[X | Y]]\n",
    "$$"
   ]
  },
  {
   "cell_type": "markdown",
   "metadata": {},
   "source": [
    "#### Ejemplo: sistema en contacto con un reservorio en equilibrio térmico\n",
    "\n",
    "Considere un sistema acoplado a un reservorio (recordar que significa **sistema** y **reservorio** en este contexto) que se encuentra en equilibrio térmico.\n",
    "\n",
    "Para el sistema total, tenemos:\n",
    "- $N$ partículas y $E_{tot}$ energía total\n",
    "\n",
    "Para el sistema pequeño, tenemos:\n",
    "- $m$ partículas y y $E_m = \\sum_{i=1}^m E_i$ energía total, donde $E_i$ es la energía de una partícula\n",
    "\n",
    "Para el resto del sistema, tenemos:\n",
    "- $N - m$ partículas y $E = E_{tot} - E_m$\n",
    "\n",
    "**Nos interesa la distribución de $E_m$ bajo la condición de que la energía total se conserva**\n",
    "\n",
    "---\n",
    "\n",
    "##### Modelo reduccionista\n",
    "\n",
    "En general, este tipo de configuraciones se estudian bajo otro formalismo. Sin embargo, la teoría de variable aleatoria nos da un procedimiento formal para estudiar las variables estocásticas que nos interesan. La ventaja es que con la teoría de variable aleatoria podemos considerar distribuciones de probabilidad específicas, generalizando muchos resultados en la física estadística.\n",
    "\n",
    "Consideremos un caso extremo, en el cual el sistema es una partícula y el reservorio también es una partícula. \n",
    "\n",
    "Supongamos que la energía es una variable aleatoria $E_1$ y $E_2$, para cada partícula respectivamente. La distribución de energía es exponencial y las variables son I.I.D., entonces\n",
    "$$\n",
    "f(x_1) = \\lambda e^{-\\lambda x_1},\\; f(x_2) = \\lambda e^{-\\lambda x_2}\n",
    "$$\n",
    "La energía del subsistema es $E_1$ y la energía total es $T = E_1 + E_2$. De manera tal que nos interesa evaluar\n",
    "$$\n",
    "E[E_1 | E_1 + E_2 = t]\\;{\\textrm{y}}\\;{\\textrm{var}}[E_1 | E_1 + E_2 = t].\n",
    "$$\n",
    "Esto puede parecer complicado; sin embargo, en la clase anterior demostramos: \n",
    "- Si $X$ y $Y$ son variables aleatorias I.I.D. exponenciales, entonces la distribución condicional de $X$ dado $X + Y = t$ es **la distribución uniforme en el intervalo $[0, t]$**.\n",
    "   \n",
    "Dado que la distribución marginal $P\\{ E_1 \\in [0, \\infty), E_1 + E_2 = t \\} = 1 / t$ (solución al problema analítico de la clase anterior), entonces se sigue que\n",
    "$$\n",
    "E[E_1 | E_1 + E_2 = t] = \\frac{t}{2}\\;{\\textrm{y}}\\;{\\textrm{var}}[E_1 | E_1 + E_2 = t] = \\frac{t^2}{12}\n",
    "$$\n",
    "<div style=\"text-align: right;\">\n",
    "$\\blacksquare$\n",
    "</div>\n",
    "\n",
    "¿Que interpretación física le damos a este resultado?\n",
    "- Note que este resultado es válido para cualquier $\\lambda$, i.e., ¡el resultado es general para cualquier temperatura!\n",
    "- Para más partículas, ¡podemos usar la distribución gamma vista en la clase anterior!\n",
    "- La distribución uniforme resultante de la energía marginal es **SUMAMENTE** interesante. La operación condicional cambia la distribución, un resultado que podemos interpretar desde la perspectiva del **ensamble microcanónico**. Dado que la energía total es fija, no existe preferencia en como dividir la energía siempre y cuando su valor sea $t$. El condicionamiento *cancela* las distribuciones exponenciales (recuerde que las exponenciales se refieren, en física, a la distribución más ubicua, la de Boltzmann)."
   ]
  },
  {
   "cell_type": "markdown",
   "metadata": {},
   "source": [
    "Este resultado se puede probar computacionalmente. Consideremos dos arreglos de variables aleatorias exponencialmente, que representan los resultados de experimentos que evalúan la energía de la partícula 1 y la partícula 2:"
   ]
  },
  {
   "cell_type": "code",
   "execution_count": 1,
   "metadata": {},
   "outputs": [],
   "source": [
    "import numpy as np\n",
    "import matplotlib.pyplot as plt\n",
    "\n",
    "# Simulate two independent exponential(1) energies\n",
    "N = 200_000\n",
    "E1 = np.random.exponential(1, N)\n",
    "E2 = np.random.exponential(1, N)"
   ]
  },
  {
   "cell_type": "markdown",
   "metadata": {},
   "source": [
    "La energía total es:"
   ]
  },
  {
   "cell_type": "code",
   "execution_count": 2,
   "metadata": {},
   "outputs": [],
   "source": [
    "T = E1 + E2"
   ]
  },
  {
   "cell_type": "markdown",
   "metadata": {},
   "source": [
    "Consideremos un valor de prueba para la energía total, digamos $t = 2.0$ (en unidades naturales). Podemos tomar de nuestros resultados de energía (note que estos valores son valores de medición, el resultado de haber \"medido\" la energía total; o, en otras palabras, las muestras) y considerar solamente los que se aproximan al valor de la energía total. \n",
    "\n",
    "Podemos usar `NumPy`:"
   ]
  },
  {
   "cell_type": "code",
   "execution_count": 3,
   "metadata": {},
   "outputs": [],
   "source": [
    "# Condicionamos a que t \\approx 2\n",
    "condición = (T > 1.9) & (T < 2.1)\n",
    "E1_condicionado = E1[condición]"
   ]
  },
  {
   "cell_type": "markdown",
   "metadata": {},
   "source": [
    "La idea es ahora estudiar la distribución de `E1_condicionado`, el cual representa los valores que puede tomar la energía de la primera partícula bajo la condición de energía total.\n",
    "\n",
    "Comparemos esto con la distribución teórica, el resultado de nuestro análisis. Sabemos que debe ser la distribución uniforme en $[0, t]$, entonces:"
   ]
  },
  {
   "cell_type": "code",
   "execution_count": 4,
   "metadata": {},
   "outputs": [],
   "source": [
    "muestras_teoricas = np.random.uniform(0, 2, 10_000)"
   ]
  },
  {
   "cell_type": "markdown",
   "metadata": {},
   "source": [
    "Ahora hacemos un histograma de cada una:"
   ]
  },
  {
   "cell_type": "code",
   "execution_count": 5,
   "metadata": {},
   "outputs": [
    {
     "data": {
      "image/png": "[encoded data removed]",
      "text/plain": [
       "<Figure size 640x480 with 1 Axes>"
      ]
     },
     "metadata": {},
     "output_type": "display_data"
    }
   ],
   "source": [
    "plt.hist(E1_condicionado, bins=40, density=True, alpha=0.6, label=r\"Simulación $E_1|T \\approx 2$\")\n",
    "plt.hist(muestras_teoricas, bins=40, density=True, alpha=0.6, label=r\" Dist. uniforme $(0,2)$\")\n",
    "plt.xlabel(r\"$E_1$\")\n",
    "plt.ylabel(r\"$f(E_1)$\")\n",
    "plt.legend()\n",
    "plt.show()"
   ]
  },
  {
   "cell_type": "markdown",
   "metadata": {},
   "source": [
    "¡Las distribuciones son muy similares! Calculemos los parámetros de la distribución:"
   ]
  },
  {
   "cell_type": "code",
   "execution_count": 6,
   "metadata": {},
   "outputs": [
    {
     "name": "stdout",
     "output_type": "stream",
     "text": [
      "Expectación empírica E[E_1 | T approx 2] = 0.9946478176457597\n",
      "Expectación teórica = 1.0\n",
      "Varianza empírica var[E1|T approx 2] = 0.3362093175813622\n",
      "Varianza teórica = 0.3333333333333333\n"
     ]
    }
   ],
   "source": [
    "print(\"Expectación empírica E[E_1 | T approx 2] =\", np.mean(E1_condicionado))\n",
    "print(\"Expectación teórica =\", 2/2)\n",
    "print(\"Varianza empírica var[E1|T approx 2] =\", np.var(E1_condicionado))\n",
    "print(\"Varianza teórica =\", 2**2/12)"
   ]
  },
  {
   "cell_type": "markdown",
   "metadata": {},
   "source": [
    "### Generación de variables aleatorias discretas"
   ]
  },
  {
   "cell_type": "markdown",
   "metadata": {},
   "source": [
    "#### El método de la transformada inversa\n",
    "\n",
    "Suponga que deseamos generar los valores de una variable aleatoria discreta $X$ con PMF\n",
    "$$\n",
    "P\\{ X = x_j \\} = p_j,\\; j=0,1,\\cdots,\\sum_j p_j = 1.\n",
    "$$\n",
    "Para calcular estos valores, podemos generar un número aleatorio $U \\in [0, 1]$, con $U$ una variable aleatoria distribuida uniformemente. Con base en este número, hacemos\n",
    "$$\n",
    "X = \\begin{cases} x_0\\;{\\textrm{si}}\\; U < p_0 \\\\ x_1\\;{\\textrm{si}}\\; p_0 \\leq U < p_0 + p_1 \\\\ \\vdots \\\\ x_j\\;{\\textrm{si}}\\;\\sum_{i=0}^{j-1} p_i \\leq U < \\sum_{i=0}^{j} p_i \\\\ \\vdots \\\\ \\end{cases}\n",
    "$$\n",
    "Básicamente, este concepto se basa en el hecho de que para $0 < a < b < 1$, tenemos\n",
    "$$\n",
    "p\\{X = x_j \\} = p\\Bigg\\{ \\sum_{i=0}^{j-1} p_i \\leq U < \\sum_{i=0}^{j} p_i \\Bigg\\} = p_j\n",
    "$$\n",
    "y de esta manera $X$ tendrá la distribución deseada.\n",
    "\n",
    "El algoritmo para proceder sería el siguiente:\n",
    "- Generar un número aleatorio $U$\n",
    "- Si $U < p_0$, entonces $X = x_0$ y detenerse\n",
    "- Si $U < p_0 + p_1$, entonces $X = x_1$ y detenerse\n",
    "- Si $U < p_0 + p_1 + p_2$ entonces $X = x_2$ y detenerse\n",
    "- $\\cdots$"
   ]
  },
  {
   "cell_type": "markdown",
   "metadata": {},
   "source": [
    "Si los $x_i$, $i \\geq 0$, están ordenados de manera tal que $x_0 < x_1 < x_2 < \\cdots$ y denotamos con $F$ a la distribución de la función de $X$ entonces $F(x_k) = \\sum_{i=0}^k p_i$, luego\n",
    "- $X = x_j$ si $F(x_{j-1}) \\leq U < F(x_j)$.\n",
    "\n",
    "De esta manera, después de generar un número aleatorio $U$ **determinamos el valor de $X$ encontrando el de $F$ en el cual $U$ se encuentra**. Básicamente, este procedimiento corresponde a encontrar la inversa de $F(U)$, por lo cual el método se conoce como el **método de la transformada inversa**.\n",
    "\n",
    "Es decir, para una variable aleatoria $X$ con CDF $F(x)$ definida como\n",
    "$$\n",
    "F(x) = P\\{ X < x \\},\n",
    "$$\n",
    "entonces para $U$ como una variable aleatoria distribuida uniformemente en el intervalo $[0, 1]$ tenemos que\n",
    "$$\n",
    "X = F^{-1}(U)\n",
    "$$\n",
    "tendrá la misma distribución que $X$.\n",
    "\n",
    "**Limitación**\n",
    "- El método es muy ineficiente si la distribución tiene un soporte muy grande (e.g., binomial con n grande)"
   ]
  },
  {
   "cell_type": "markdown",
   "metadata": {},
   "source": [
    "#### Ejemplo\n",
    "\n",
    "Supongamos una variable $X$ con\n",
    "$$\n",
    "P\\{ X = 1 \\} = 0.2,\\;P\\{ X = 2 \\} = 0.5,\\;P\\{ X = 3 \\} = 0.3.  \n",
    "$$\n",
    "Calculamos la CDF, tal que\n",
    "$$\n",
    "F(1) = 0.2,\\;F(2) = 0.7,\\;F(3) = 1.0.\n",
    "$$\n",
    "De esta forma, realizamos\n",
    "- Si $U < 0.2 \\implies X = 1$\n",
    "- Si $0.2 < U < 0.7 \\implies X = 2$\n",
    "- Si $0.7 < U < 1.0 \\implies X = 3$\n",
    "\n",
    "Esto se puede implementar de la siguiente forma:"
   ]
  },
  {
   "cell_type": "code",
   "execution_count": 8,
   "metadata": {},
   "outputs": [
    {
     "data": {
      "image/png": "[encoded data removed]",
      "text/plain": [
       "<Figure size 640x480 with 1 Axes>"
      ]
     },
     "metadata": {},
     "output_type": "display_data"
    }
   ],
   "source": [
    "import numpy as np\n",
    "import matplotlib.pyplot as plt\n",
    "\n",
    "# La función asume que los valores están ordenados en orden creciente\n",
    "def invTransform(values, probabilities):\n",
    "    # Primero generamos la CDF\n",
    "    cdf = np.cumsum(probabilities)\n",
    "    # Luego el número aleatorio U, uniformemente distribuido\n",
    "    uVal = np.random.rand()\n",
    "\n",
    "    return values[np.searchsorted(cdf, uVal)]\n",
    "\n",
    "vals = np.array([1, 2, 3])\n",
    "probs = np.array([0.2, 0.5, 0.3])\n",
    "\n",
    "numSamples = 1000\n",
    "samples = [invTransform(vals, probs) for _ in range(numSamples)]\n",
    "\n",
    "counts, bins = np.histogram(samples)\n",
    "counts = counts / numSamples\n",
    "plt.ylim(0,0.5)\n",
    "plt.hist(bins[:-1], bins, weights = counts);"
   ]
  },
  {
   "cell_type": "markdown",
   "metadata": {},
   "source": [
    "#### El método de aceptación–rechazo\n",
    "\n",
    "En simulaciones de mecánica estadística muchas veces necesitamos muestrear de una distribución de probabilidad discreta $p(x)$ que no tiene una forma simple para generar directamente números aleatorios.\n",
    "\n",
    "El **método de aceptación–rechazo** permite generar muestras a partir de $p(x)$ utilizando:\n",
    "\n",
    "1. Una distribución **propuesta** $q(x)$ de la cual sí sabemos generar números aleatorios.\n",
    "2. Una constante `c` tal que $p(x) \\leq c q(x)$ para todo $x$.\n",
    "\n",
    "**Algoritmo (discreto)**\n",
    "\n",
    "1. Generar $X$ con base en  $q(x)$.\n",
    "2. Generar $U$, uniforme en el intervalo $[0,1]$.\n",
    "3. Aceptar $X$ como muestra de $p(x)$ si \n",
    "$$\n",
    "U \\leq \\frac{p(X)}{c q(X)}.\n",
    "$$\n",
    "4. De lo contrario, rechazar y repetir.\n",
    "\n",
    "- El método funciona incluso si $p(x)$ no tiene una inversa explícita (como el método de la transformada inversa).\n",
    "- La **eficiencia** depende de la elección de $q(x)$ y de la constante $c$.\n",
    "- En mecánica estadística:\n",
    "  - Útil para distribuciones de configuraciones de espín, microestados discretos o probabilidades que involucran factores de Boltzmann truncados.\n",
    "- Generaliza naturalmente a distribuciones continuas (caso estándar en Monte Carlo)."
   ]
  },
  {
   "cell_type": "markdown",
   "metadata": {},
   "source": [
    "Veamos la implementación con un ejemplo.\n",
    "\n",
    "Supongamos que queremos simular la distribución geométrica\n",
    "$$\n",
    "p(x) = P\\{X = n\\} = p(1-p)^{n-1},\\; n \\geq 1\n",
    "$$\n",
    "con un parámetro $p = 0.3$. \n",
    "\n",
    "Para proceder, debemos considerar una distribución $q(x)$. Consideremos una distribución uniforme con los valores $\\{1, 2, \\cdots, 20 \\}$. "
   ]
  },
  {
   "cell_type": "code",
   "execution_count": 11,
   "metadata": {},
   "outputs": [],
   "source": [
    "# Distribución propuesta\n",
    "kVals = np.arange(1, 21)\n",
    "qVals = np.ones_like(kVals) / len(kVals)"
   ]
  },
  {
   "cell_type": "markdown",
   "metadata": {},
   "source": [
    "Definimos una función para la distribución geómetrica:"
   ]
  },
  {
   "cell_type": "code",
   "execution_count": 12,
   "metadata": {},
   "outputs": [],
   "source": [
    "def geometricPMF(n, p):\n",
    "    return (1-p)**(n-1) * p if n >= 1 else 0.0"
   ]
  },
  {
   "cell_type": "markdown",
   "metadata": {},
   "source": [
    "Ahora debemos escoger una constante $c$. Para esto podemos Evaluar todos los coeficientes $p(x) / q(x)$ y tomar el valor máximo:"
   ]
  },
  {
   "cell_type": "code",
   "execution_count": 13,
   "metadata": {},
   "outputs": [
    {
     "name": "stdout",
     "output_type": "stream",
     "text": [
      "5.999999999999999\n"
     ]
    }
   ],
   "source": [
    "p = 0.3\n",
    "ratios = [geometricPMF(k, p) / qVals[i] for i,k in enumerate(kVals)]\n",
    "c = max(ratios)\n",
    "print(c)"
   ]
  },
  {
   "cell_type": "markdown",
   "metadata": {},
   "source": [
    "Ahora evaluamos el método de aceptación-rechazo:"
   ]
  },
  {
   "cell_type": "code",
   "execution_count": 14,
   "metadata": {},
   "outputs": [],
   "source": [
    "numSampes = 1_000_000\n",
    "samples = []\n",
    "while len(samples) < numSamples:\n",
    "    # Propuesta\n",
    "    xVal = np.random.randint(1, 21)\n",
    "    # Valor de U\n",
    "    uVal = np.random.rand()\n",
    "    if uVal <= geometricPMF(xVal, p) / (c * qVals[xVal - 1]):\n",
    "        samples.append(xVal)\n",
    "\n",
    "samples = np.array(samples)"
   ]
  },
  {
   "cell_type": "markdown",
   "metadata": {},
   "source": [
    "Ahora podemos comparar el resultado de la distribución empírica generada por el algoritmo con la distribución teórica:"
   ]
  },
  {
   "cell_type": "code",
   "execution_count": 16,
   "metadata": {},
   "outputs": [
    {
     "data": {
      "image/png": "[encoded data removed]",
      "text/plain": [
       "<Figure size 640x480 with 1 Axes>"
      ]
     },
     "metadata": {},
     "output_type": "display_data"
    }
   ],
   "source": [
    "# Comparación empírica vs teórica\n",
    "# Esta función devuelve los valores únicos de un arreglo y cuenta \n",
    "# la frecuencia, para hacer el histograma\n",
    "vals, counts = np.unique(samples, return_counts=True)\n",
    "probs_emp = counts / counts.sum()\n",
    "probs_teo = np.array([geometricPMF(n,p) for n in vals])\n",
    "\n",
    "plt.bar(vals-0.2, probs_emp, width=0.4, label=\"Simulado (A–R)\")\n",
    "plt.bar(vals+0.2, probs_teo, width=0.4, label=\"Teórico\", alpha=0.7)\n",
    "plt.xlabel(\"k\")\n",
    "plt.ylabel(\"Probabilidad\")\n",
    "plt.legend()\n",
    "plt.show()"
   ]
  },
  {
   "cell_type": "markdown",
   "metadata": {},
   "source": [
    "### Generación de variables aleatorias continuas\n",
    "\n",
    "#### El método de la transformada inversa\n",
    "\n",
    "El método de la **transformada inversa** es una técnica fundamental para generar muestras de una variable aleatoria continua con función de distribución acumulada (CDF) conocida.\n",
    "\n",
    "Considere una variable aleatoria continua con una CDF $F$. \n",
    "\n",
    "**Proposición**\n",
    "\n",
    "Sea $U$ una variable aleatoria distribuida uniformemente en el intervalo $[0,1]$. Para cualquier CDF, la variable $X$ definida por\n",
    "$$\n",
    "X = F^{-1}(U)\n",
    "$$\n",
    "tendrá distribución F, donde $F^{-1}(u)$ es definida tal que el valor de $x$ satisfaga $F(x) = u$.\n",
    "\n",
    "---\n",
    "\n",
    "Para la prueba, sea $F_X$ la CDF tal que $X = F^{-1}(U)$. Entonces\n",
    "\\begin{align}\n",
    "F_X(x) &= P\\{ X \\leq x \\} \\\\\n",
    "&= P\\{ F^{-1}(U) \\leq x \\}.\n",
    "\\end{align}\n",
    "Dado que $F$ crece de forma monotónica, se satisface que si $a < b$ entonces $F(a) < F(b)$. Entonces\n",
    "\\begin{align}\n",
    "F_X(x) &= P\\{ F(F^{-1}(U)) \\leq F(x) \\} \\\\\n",
    "&= P\\{ U \\leq F(x) \\} \\\\\n",
    "&= F(x)\n",
    "\\end{align}\n",
    "<div style=\"text-align: right;\">\n",
    "$\\blacksquare$\n",
    "</div>"
   ]
  },
  {
   "cell_type": "markdown",
   "metadata": {},
   "source": [
    "### Ejercicio\n",
    "\n",
    "- Utilice el método de la transformada inversa para generar números que siguen una distribución Gaussiana.\n",
    "- Genere muestras de la distribución y un histograma con las muestras.\n",
    "- En el mismo gráfico, muestre la PDF de la distribución normal para comparar el resultado teórico con el empírico."
   ]
  }
 ],
 "metadata": {
  "anaconda-cloud": {},
  "kernelspec": {
   "display_name": "Python 3 (ipykernel)",
   "language": "python",
   "name": "python3"
  },
  "language_info": {
   "codemirror_mode": {
    "name": "ipython",
    "version": 3
   },
   "file_extension": ".py",
   "mimetype": "text/x-python",
   "name": "python",
   "nbconvert_exporter": "python",
   "pygments_lexer": "ipython3",
   "version": "3.13.5"
  }
 },
 "nbformat": 4,
 "nbformat_minor": 4
}

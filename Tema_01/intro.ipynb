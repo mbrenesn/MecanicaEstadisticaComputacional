{
 "cells": [
  {
   "cell_type": "markdown",
   "metadata": {},
   "source": [
    "# `Python` Recap para computación científica"
   ]
  },
  {
   "cell_type": "markdown",
   "metadata": {},
   "source": [
    "En esta lección estudiaremos un repaso de la funcionalidad fundamental de `Python`, con énfasis en computación científica. Estudiaremos:\n",
    "1. Funcionalidad fundamental\n",
    "2. Funcionalidad esencial de de `NumPy`\n",
    "3. Visualización y `matplotlib`\n",
    "4. Breve introducción a `Scipy`\n",
    "5. Programación orientada a objetos"
   ]
  },
  {
   "cell_type": "markdown",
   "metadata": {},
   "source": [
    "## Funcionalidad fundamental"
   ]
  },
  {
   "cell_type": "markdown",
   "metadata": {},
   "source": [
    "`Python` incluye varios `data-types` fundamentales útiles para realizar cálculos:"
   ]
  },
  {
   "cell_type": "code",
   "execution_count": null,
   "metadata": {},
   "outputs": [],
   "source": [
    "x = 10                 # int\n",
    "y = 3.14               # float\n",
    "is_valid = True        # bool\n",
    "text = \"Hello, Python\" # str"
   ]
  },
  {
   "cell_type": "markdown",
   "metadata": {},
   "source": [
    "Las `list` son arreglos de datos fundamentales que se utilizan para almacenar datos en memoria. Las `list` son arreglos dinámicos y son de tipo `mutable`, lo cual implica que su estado puede cambiar de forma global. Los arreglos se almacenan en el `heap`:"
   ]
  },
  {
   "cell_type": "code",
   "execution_count": null,
   "metadata": {},
   "outputs": [],
   "source": [
    "squares = [i**2 for i in range(10)]\n",
    "even_squares = [x for x in squares if x % 2 == 0]\n",
    "\n",
    "print(even_squares)"
   ]
  },
  {
   "cell_type": "markdown",
   "metadata": {},
   "source": [
    "Note que las listas se pueden recorrer de forma iterativa utilizando `comprehensions`. Es decir, se puede construir una list iterando índices mudos en una sola línea de comandos con flujos de control."
   ]
  },
  {
   "cell_type": "markdown",
   "metadata": {},
   "source": [
    "Existen estructuras de datos `inmutable`, que no pueden ser modificados post-construcción:"
   ]
  },
  {
   "cell_type": "code",
   "execution_count": null,
   "metadata": {},
   "outputs": [],
   "source": [
    "tuple_ex = (1, 2, 3)\n",
    "set_ex = {1, 2, 3, 3}         # {1, 2, 3}\n",
    "dict_ex = {'a': 1, 'b': 2}\n",
    "\n",
    "print(tuple_ex)\n",
    "print(set_ex)\n",
    "print(dict_ex)"
   ]
  },
  {
   "cell_type": "markdown",
   "metadata": {},
   "source": [
    "Note que los `set` solamente contienen datos únicos."
   ]
  },
  {
   "cell_type": "markdown",
   "metadata": {},
   "source": [
    "### Funciones y manejo de excepciones\n",
    "\n",
    "Las funciones corresponden a los bloques de construcción más fundamentales en programación funcional y procedural. La idea de diseñar operaciones en funciones corresponde al concepto de **reutilizabilidad**. Se puede utilizar `try/except` para evitar posibles errores al momento de la ejecución: "
   ]
  },
  {
   "cell_type": "code",
   "execution_count": null,
   "metadata": {},
   "outputs": [],
   "source": [
    "def mean_and_std(data):\n",
    "    try:\n",
    "        n = len(data)\n",
    "        mean = sum(data) / n\n",
    "        variance = sum((x - mean)**2 for x in data) / n\n",
    "        return mean, variance**0.5\n",
    "    except ZeroDivisionError:\n",
    "        return None, None"
   ]
  },
  {
   "cell_type": "markdown",
   "metadata": {},
   "source": [
    "Por ejemplo:"
   ]
  },
  {
   "cell_type": "code",
   "execution_count": null,
   "metadata": {},
   "outputs": [],
   "source": [
    "sample = [1, 2, 3, 4, 5]\n",
    "mu, sigma = mean_and_std(sample)\n",
    "print(f\"Mean = {mu:.2f}, Std = {sigma:.2f}\")"
   ]
  },
  {
   "cell_type": "markdown",
   "metadata": {},
   "source": [
    "Note el estilo del formato de hileras de caracteres que inluyen variables."
   ]
  },
  {
   "cell_type": "markdown",
   "metadata": {},
   "source": [
    "### Ecuaciones y LaTeX "
   ]
  },
  {
   "cell_type": "markdown",
   "metadata": {},
   "source": [
    "La sintaxis de LaTeX puede ser utilizada en los Jupyter Notebooks para escribir ecuaciones y expresiones matemáticas. \n",
    "\n",
    "Esto se puede hacer en línea:\n",
    "$e^{i\\pi} + 1 = 0$, o en ambientes de ecuaciones:\n",
    "\n",
    "\\begin{equation}\n",
    "e^x=\\sum_{i=0}^\\infty \\frac{1}{i!}x^i\n",
    "\\end{equation}\n",
    "\n",
    "En línea, las expresiones se escriben envolviendo el código con `$`:\n",
    "\n",
    "```\n",
    "$e^{i\\pi} + 1 = 0$\n",
    "```\n",
    "\n",
    "Los ambientes de ecuaciones se envuelven en el ambiente `\\begin{equation}` y `\\end{equation}`:\n",
    "\n",
    "```latex\n",
    "\\begin{equation}\n",
    "e^x=\\sum_{i=0}^\\infty \\frac{1}{i!}x^i\n",
    "\\end{equation}\n",
    "```"
   ]
  },
  {
   "cell_type": "markdown",
   "metadata": {},
   "source": [
    "### Elementos esenciales de `NumPy`\n",
    "\n",
    "`NumPy` es la biblioteca de mayor uso en computación científica. En gran medida, su uso estandarizado se debe a la flexibilidad de la estructura de datos conocida como `nd.array`.\n",
    "\n",
    "La biblioteca se incluye en el ambiente usando la directriz:"
   ]
  },
  {
   "cell_type": "code",
   "execution_count": null,
   "metadata": {},
   "outputs": [],
   "source": [
    "import numpy as np"
   ]
  },
  {
   "cell_type": "markdown",
   "metadata": {},
   "source": [
    "Note que la biblioteca debe ser instalada usando un `package manager` (i.e., `conda` o `pip` dependiendo de la instalación usada para ejecutar este notebook. Esto requiere, e.g., `conda install numpy`).\n",
    "\n",
    "Por ejemplo, podemos crear dos vectores invocando el `custom constructor` usando una lista primitiva:"
   ]
  },
  {
   "cell_type": "code",
   "execution_count": null,
   "metadata": {},
   "outputs": [],
   "source": [
    "vecA = np.array([1, 2, 3])\n",
    "vecB = np.array([4, 5, 6])\n",
    "\n",
    "print(vecA)\n",
    "print(vecB)"
   ]
  },
  {
   "cell_type": "markdown",
   "metadata": {},
   "source": [
    "`NumPy` provee métodos de álgebra linea; tales como multiplicación, descomposición matricial, solución de sistemas lineas, entre otros. Por ejemplo:"
   ]
  },
  {
   "cell_type": "code",
   "execution_count": null,
   "metadata": {},
   "outputs": [],
   "source": [
    "prodAB_func = np.dot(vecA, vecB)\n",
    "prodAB_method = vecA.dot(vecB)\n",
    "\n",
    "# La siguiente función comprueba si los resultados son correctos bajo cierta tolerancia numérica\n",
    "np.allclose(prodAB_func, prodAB_method)"
   ]
  },
  {
   "cell_type": "markdown",
   "metadata": {},
   "source": [
    "Adicionalmente, la estructura de datos permite objetos multidimensionales tales como matrices o tensores. Una forma de construir un objeto de este tipo es anidando listas de listas primitivas:"
   ]
  },
  {
   "cell_type": "code",
   "execution_count": null,
   "metadata": {},
   "outputs": [],
   "source": [
    "matA = np.array([[1, 2], [3, 4]])\n",
    "matB = np.array([[5, 6], [7, 8]])\n",
    "\n",
    "print(matA)\n",
    "print(matB)"
   ]
  },
  {
   "cell_type": "markdown",
   "metadata": {},
   "source": [
    "Estos objetos también incluyen métodos algebraicos:"
   ]
  },
  {
   "cell_type": "code",
   "execution_count": null,
   "metadata": {},
   "outputs": [],
   "source": [
    "prod_matAmatB = matA.dot(matB)\n",
    "\n",
    "print(prod_matAmatB)"
   ]
  },
  {
   "cell_type": "markdown",
   "metadata": {},
   "source": [
    "### Visualización usando `matplotlib`\n",
    "\n",
    "`matplotlib` es una biblioteca de uso común para visualización. En particular cuando se utilizan ambientes integrados como este. La biblioteca se carga al ambiente con la directriz:"
   ]
  },
  {
   "cell_type": "code",
   "execution_count": null,
   "metadata": {},
   "outputs": [],
   "source": [
    "import matplotlib.pyplot as plt"
   ]
  },
  {
   "cell_type": "markdown",
   "metadata": {},
   "source": [
    "De nuevo, note que debe instalar la biblioteca `matplotlib` en su ambiente usando un `package manager`.\n",
    "\n",
    "Existen muchas formas de visualizar información. Por ejemplo:"
   ]
  },
  {
   "cell_type": "code",
   "execution_count": null,
   "metadata": {},
   "outputs": [],
   "source": [
    "x = np.linspace(0, 2.0 * np.pi, 100)\n",
    "y = np.sin(x)\n",
    "plt.figure(figsize=(6, 4))\n",
    "plt.plot(x, y, label='sin(x)')\n",
    "plt.xlabel('x')\n",
    "plt.ylabel('sin(x)')\n",
    "plt.title('Sine Wave')\n",
    "plt.legend()\n",
    "plt.grid(True)\n",
    "plt.show()"
   ]
  },
  {
   "cell_type": "markdown",
   "metadata": {},
   "source": [
    "La generación de **histogramas** va a ser de suma importancia en este curso para visualizar variables estocásticas. `matplotlib` y `NumPy` se puede utilizar en combinación para esta tarea. Por ejemplo, podemos generar una muestra de números aleatorios con base en una distribución normal (más de esto más adelante):"
   ]
  },
  {
   "cell_type": "code",
   "execution_count": null,
   "metadata": {},
   "outputs": [],
   "source": [
    "samples = np.random.normal(loc = 0.0, scale = 1.0, size = 1000)"
   ]
  },
  {
   "cell_type": "markdown",
   "metadata": {},
   "source": [
    "Estas muestras se pueden dividir en `bins` (sub-secciones de datos de cierto tamaño). Veamos el método `plt.hist`:"
   ]
  },
  {
   "cell_type": "code",
   "execution_count": null,
   "metadata": {},
   "outputs": [],
   "source": [
    "plt.hist(samples, bins = 40, density = True, alpha = 0.5, color = 'g')\n",
    "plt.title('Histogram of Normal Samples')\n",
    "plt.xlabel('Value')\n",
    "plt.ylabel('Probability Density')\n",
    "plt.grid(True)\n",
    "plt.show()"
   ]
  },
  {
   "cell_type": "markdown",
   "metadata": {},
   "source": [
    "De particular atención son los argumentos `bins` y `density`; los cuales representan el número de divisiones y la normalización de la distribución, respectivamente."
   ]
  },
  {
   "cell_type": "markdown",
   "metadata": {},
   "source": [
    "Una funcionalidad muy útil corresponde a utilizar **flujos de control booleanos** dentro de ambientes de visualización. Por ejemplo, generemos dos arreglos unidimensionales que contienen números aleatorios en el intervalo $[-1, 1]$ (más de esto en la próxima clase): "
   ]
  },
  {
   "cell_type": "code",
   "execution_count": null,
   "metadata": {},
   "outputs": [],
   "source": [
    "xVals = np.random.uniform(low = -1.0, high = 1.0, size = 1000)\n",
    "yVals = np.random.uniform(low = -1.0, high = 1.0, size = 1000)"
   ]
  },
  {
   "cell_type": "markdown",
   "metadata": {},
   "source": [
    "Ahora podemos generar un gráfico de dispersión de estos valores, usando un diferente esquema de colores para aquellos valores que satisfacen cierta condición matemática. \n",
    "\n",
    "Por ejemplo, supongamos que deseamos visualizar los valores para los cuales $x^2 + y^2 >= 1$. Esto se puede hacer mediante la expresión `c = (xVals**2 + yVals**2 <= 1)`. Veamos:"
   ]
  },
  {
   "cell_type": "code",
   "execution_count": null,
   "metadata": {},
   "outputs": [],
   "source": [
    "plt.scatter(xVals, yVals, c = (xVals**2 + yVals**2 <= 1), cmap = 'bwr', alpha = 0.5, marker = '.')\n",
    "plt.title('Monte Carlo Estimation of Pi')\n",
    "plt.xlabel('x')\n",
    "plt.ylabel('y')\n",
    "plt.gca().set_aspect('equal')\n",
    "plt.grid(True)\n",
    "plt.show()"
   ]
  },
  {
   "cell_type": "markdown",
   "metadata": {},
   "source": [
    "### Problemas al tratar con aritmética de punto flotante\n",
    "\n",
    "En computación, no tenemos acceso a los recursos requeridos para representar el conjunto de los números nenteros o reales (o, por extensión, el conjunto de los números complejos) en el sentido estricto matemático.\n",
    "\n",
    "En su lugar, usamos una **aproximación**. Dicha aproximación se conoce como **numéros de punto flotante**. \n",
    "\n",
    "En computación científica, se debe tener **extremo** cuidado se utiliza esta representación. Un caso usual es cuando debemos **sustraer** dos números de punto flotante muy cercanos el uno del otro. En esos casos, la representación se satura y obtenemos los infames **errores de punto flotante**.\n",
    "\n",
    "Considere el siguiente ejemplo. Sea\n",
    "$$\n",
    "f(x) = \\frac{1 - \\cos(x)}{x^2}.\n",
    "$$\n",
    "Sabemos que\n",
    "$$\n",
    "\\lim_{x \\to 0} f(x) = \\frac{1}{2}.\n",
    "$$\n",
    "¿Qué pasa al evaluar este límite con recursos computacionales? Veamos.\n",
    "\n",
    "Definamos un intervalo de la variable independiente, espaciado linealmente en escala logarítmica:"
   ]
  },
  {
   "cell_type": "code",
   "execution_count": null,
   "metadata": {},
   "outputs": [],
   "source": [
    "xValsl = np.logspace(-8, -1, 100) # 100 puntos espaciados linealmente en escala logarítmica desde 10^-8 hasta 10^-1"
   ]
  },
  {
   "cell_type": "markdown",
   "metadata": {},
   "source": [
    "La función matemática puede ser definida como una función computacional:"
   ]
  },
  {
   "cell_type": "code",
   "execution_count": null,
   "metadata": {},
   "outputs": [],
   "source": [
    "def fFunc(xInd):\n",
    "    return (1.0 - np.cos(xInd)) / xInd**2"
   ]
  },
  {
   "cell_type": "markdown",
   "metadata": {},
   "source": [
    "Luego, evaluamos la función sobre cada uno de los puntos de la variable independiente:"
   ]
  },
  {
   "cell_type": "code",
   "execution_count": null,
   "metadata": {},
   "outputs": [],
   "source": [
    "yValsl = fFunc(xValsl)"
   ]
  },
  {
   "cell_type": "markdown",
   "metadata": {},
   "source": [
    "Note que el código anterior utiliza `sintaxis vectorial`. Es decir, la función se aplica directamente sobre cada uno de los elementos contenidos en el arreglo `xValsl`. Esto se puede hacer sobre arreglos de tipo `nd.ndarray`, más no sobre listas primitivas de `Python`.\n",
    "\n",
    "Realicemos un gráfico de como se comporta `fFunc`, la cual utilizamos para representar $f(x)$ en el límite de cuando la función se aproxima a cero:"
   ]
  },
  {
   "cell_type": "code",
   "execution_count": null,
   "metadata": {},
   "outputs": [],
   "source": [
    "plt.plot(xValsl, yValsl, label=r\"$f(x) = \\frac{1 - \\cos(x)}{x^2}$\")\n",
    "plt.axhline(0.5, color='red', linestyle='--', label=\"Expected limit = 0.5\")\n",
    "plt.xscale('log')\n",
    "plt.xlabel(\"$x$ (log scale)\")\n",
    "plt.ylabel(\"$f(x)$\")\n",
    "plt.title(\"Floating Point Error in $(1 - cos(x)) / x^2$\")\n",
    "plt.legend()\n",
    "plt.grid(True)\n",
    "plt.show()"
   ]
  },
  {
   "cell_type": "markdown",
   "metadata": {},
   "source": [
    "Note las desviaciones severas mientras la función se aproxima a cero. Esto se debe a errores de **punto flotante**.\n",
    "\n",
    "En general, los errores de punto flotante son importantes en solamente algunas operaciones; tales como resta, derivación y/o procedimientos de diferencias finitas."
   ]
  },
  {
   "cell_type": "markdown",
   "metadata": {},
   "source": [
    "### Explorando la eficiencia de operaciones fundamentales\n",
    "\n",
    "`Python` es un lenguaje interpretado. Algunas bibliotecas, tales como `NumPy` utilizan interfaces a código compilado para optimizar ciertas operaciones. La forma de realizar las operaciones, entonces, afecta la eficiencia computacional de representar resultados matemáticos. \n",
    "\n",
    "Veamos cuanto tarda realizar una suma de todos los elementos de una estructura de datos. "
   ]
  },
  {
   "cell_type": "code",
   "execution_count": null,
   "metadata": {},
   "outputs": [],
   "source": [
    "import time"
   ]
  },
  {
   "cell_type": "markdown",
   "metadata": {},
   "source": [
    "Generemos una lista primitiva de `Python`, usando elementos cualesquiera:"
   ]
  },
  {
   "cell_type": "code",
   "execution_count": null,
   "metadata": {},
   "outputs": [],
   "source": [
    "nSize = 10**8 # tamaño de la lista y/o arreglo de NumPy\n",
    "data_list = list(range(nSize))"
   ]
  },
  {
   "cell_type": "markdown",
   "metadata": {},
   "source": [
    "Ahora hagamos lo mismo con un arreglo de `NumPy`:"
   ]
  },
  {
   "cell_type": "code",
   "execution_count": null,
   "metadata": {},
   "outputs": [],
   "source": [
    "data_array = np.array(data_list)"
   ]
  },
  {
   "cell_type": "markdown",
   "metadata": {},
   "source": [
    "Si quisieramos realizar una operación de suma sobre los elementos de `data_list`, tenemos dos opciones:\n",
    "1. Implementar de forma iterativa la solución\n",
    "2. Usar la función primitiva `sum()`.\n",
    "\n",
    "Veamos cuánto tarda cada solución. De forma iterativa usando código nativo:"
   ]
  },
  {
   "cell_type": "code",
   "execution_count": null,
   "metadata": {},
   "outputs": [],
   "source": [
    "# 1. Iteración\n",
    "start_iterative = time.time()\n",
    "counter = 0\n",
    "for val in data_list:\n",
    "    counter += val\n",
    "end_iterative = time.time()\n",
    "\n",
    "print(end_iterative - start_iterative)"
   ]
  },
  {
   "cell_type": "markdown",
   "metadata": {},
   "source": [
    "Usando un método interno de `Python`, obtenemos:"
   ]
  },
  {
   "cell_type": "code",
   "execution_count": null,
   "metadata": {},
   "outputs": [],
   "source": [
    "start_python = time.time()\n",
    "count_p = sum(data_list)\n",
    "end_python = time.time()\n",
    "\n",
    "print(end_python - start_python)"
   ]
  },
  {
   "cell_type": "markdown",
   "metadata": {},
   "source": [
    "Vemos que este método es mucho más eficiente. Esto se debe a que la función interna es una interface a código compilado.\n",
    "\n",
    "Usando arreglos de `NumPy`, obtenemos:"
   ]
  },
  {
   "cell_type": "code",
   "execution_count": null,
   "metadata": {},
   "outputs": [],
   "source": [
    "start_numpy = time.time()\n",
    "count_n = np.sum(data_array)\n",
    "end_numpy = time.time()\n",
    "\n",
    "print(end_numpy - start_numpy)"
   ]
  },
  {
   "cell_type": "markdown",
   "metadata": {},
   "source": [
    "La solución con `NumPy` suele ser aún más eficiente. Esto se debe a que internamente la funcionalidad de `NumPy` utiliza recursos optimizados para cálculos científicos.\n",
    "\n",
    "En general, una solución eficiente en computación científica utiliza bibliotecas optimizadas para los cálculos a ser realizados. En la mayoría de los casos, debemos depender de `NumPy` para operaciones matemáticas. La eficiencia de `NumPy` depende de los recursos y bibliotecas con la cual se instaló."
   ]
  },
  {
   "cell_type": "markdown",
   "metadata": {},
   "source": [
    "### Visualización dependiente de parámetros\n",
    "\n",
    "Un recurso increíblemente útil en las ciencias es la posibilidad de cambiar de la visualización de los datos dependiendo de algún parámetro interno (e.g., temperatura, potencial químico, etc).\n",
    "\n",
    "Esto se puede hacer usando `ipywidgets`. Para utilizar esta funcionalidad, se debe instalar la biblioteca `ipympl` en el ambiente de desarrollo. \n",
    "\n",
    "Suponga que tenemos la función\n",
    "$$\n",
    "f(x, a) = \\frac{\\sin(ax)}{x}.\n",
    "$$\n",
    "Deseamos visualizar la variación $f(x, a)$ como función de $a$.\n",
    "\n",
    "Primero definimos la función:"
   ]
  },
  {
   "cell_type": "code",
   "execution_count": null,
   "metadata": {},
   "outputs": [],
   "source": [
    "def fFvar(x, a):\n",
    "    return np.sinc(a * x / np.pi) # sinc(x) := sin(pi * x) / (pi * x)"
   ]
  },
  {
   "cell_type": "markdown",
   "metadata": {},
   "source": [
    "Luego declaramos los arreglos de la variable independiente y algún valor inicial:"
   ]
  },
  {
   "cell_type": "code",
   "execution_count": null,
   "metadata": {},
   "outputs": [],
   "source": [
    "xValsp = np.linspace(-10, 10, 500)\n",
    "a0 = 1.0\n",
    "yInit = fFvar(xValsp, a0)"
   ]
  },
  {
   "cell_type": "markdown",
   "metadata": {},
   "source": [
    "La funcionalidad para la visualización interactiva se implementa de la siguiente forma:"
   ]
  },
  {
   "cell_type": "code",
   "execution_count": null,
   "metadata": {},
   "outputs": [],
   "source": [
    "# Esto se utiliza para interactuar usando Jupyter-Notebook\n",
    "%matplotlib widget\n",
    "# ipywidgets provee la funcionalidad requerida, también podemos usar matplotlib.widgets \n",
    "import ipywidgets as widgets\n",
    "\n",
    "fig, ax = plt.subplots()\n",
    "# Se crea el gráfico con un valor inicial\n",
    "line, = ax.plot(xValsp, fFvar(xValsp, 1.0))\n",
    "# Límites del eje y\n",
    "ax.set_ylim(-0.5, 1.1)\n",
    "ax.grid(True)\n",
    "\n",
    "# Se define una función que reevalúa el resultado\n",
    "def update(a):\n",
    "    line.set_ydata(fFvar(xValsp, a))\n",
    "    fig.canvas.draw_idle()\n",
    "\n",
    "# El ; al final funciona para indicarle al notebook que no enseñe el valor de retorno!\n",
    "widgets.interact(update, a = widgets.FloatSlider(min=0.1, max=10.0, step=0.1, value=1.0));"
   ]
  },
  {
   "cell_type": "markdown",
   "metadata": {},
   "source": [
    "## Ejercicio: Entropía y la energía interna de un sistema de dos niveles\n",
    "\n",
    "Considere un sistema de $N$ partículas **distinguibles** y que **no interactúan**.\n",
    "Cada partícula puede estar en dos niveles:\n",
    "- Estado base: $E = 0$\n",
    "- Estado excitado: $E = \\epsilon$\n",
    "\n",
    "Sea $n$ la cantidad de partículas en el estado excitado. Entonces:\n",
    "- La energía total del sistema es $U(n) = n \\cdot \\epsilon$\n",
    "- El número total de estados posibles es $\\Omega = \\binom{N}{n}$\n",
    "- La entropía del sistema se define como (usando $k_B = 1$): $S(n) = \\log(\\Omega(n))$"
   ]
  },
  {
   "cell_type": "markdown",
   "metadata": {},
   "source": [
    "### Instrucciones:\n",
    "1. Haga un `for loop` desde $n = 0$ hasta $N$\n",
    "2. Para cada valor posible calcule:\n",
    "   - La energía total $U(n)$\n",
    "   - La cantidad total de estados $\\Omega(n)$\n",
    "   - La entropía $S(n)$\n",
    "3. Realice un gráfico de $S(n)$ como función de la energía total $U(n)$\n",
    "\n",
    "### Parámetros:\n",
    "- Use $N = 50$ como el número total de partículas\n",
    "- La energía del estado excitado $\\epsilon = 1$ (unidades naturales)\n",
    "\n",
    "### Pregunta:\n",
    "- ¿Para cual valor de la energía total se obtiene la máxima entropía? ¿A cúal estado físico corresponde?"
   ]
  }
 ],
 "metadata": {
  "anaconda-cloud": {},
  "kernelspec": {
   "display_name": "Python 3 (ipykernel)",
   "language": "python",
   "name": "python3"
  },
  "language_info": {
   "codemirror_mode": {
    "name": "ipython",
    "version": 3
   },
   "file_extension": ".py",
   "mimetype": "text/x-python",
   "name": "python",
   "nbconvert_exporter": "python",
   "pygments_lexer": "ipython3",
   "version": "3.13.5"
  }
 },
 "nbformat": 4,
 "nbformat_minor": 4
}

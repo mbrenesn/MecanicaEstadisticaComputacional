{
 "cells": [
  {
   "cell_type": "markdown",
   "metadata": {},
   "source": [
    "# Números Aleatorios desde la perspectiva `computacional`\n",
    "\n",
    "### Introducción\n",
    "\n",
    "En el caso particular de la mecánica estadística, usamos variables aleatorias para estudiar procesos estocásticos. Los números aleatorios desde la perspectiva computacional serán útiles para, por ejemplo:\n",
    "- Simular sistemas cuya dinámica es inherentemente aleatoria (pensemos en fluctuaciones térmicas y ruido)\n",
    "- **Aproximar probabilidades de eventos y/o valores de expectación cuando las soluciones analíticas son imprácticas o imposibles de obtener**\n",
    "- Visualizar y estudiar distribuciones de probabilidad de forma empírica\n",
    "- Construir modelos computacionales de fenómenos aleatorios"
   ]
  },
  {
   "cell_type": "markdown",
   "metadata": {},
   "source": [
    "### Proceso estocástico\n",
    "**Def.:** Nos referimos a un proceso estocástico cuando alguna cantidad física que varía con respecto a un parámetro (usualmente el tiempo) se modela mediante una variable aleatoria.\n",
    "\n",
    "Ejemplos:\n",
    "- En la teoría moderna, un sistema cuántico en general sometido a efectos externos se modela mediante un proceso estocástico\n",
    "- Movimiento Browniano (movimiento de partículas heterogéneas en un fluido)\n",
    "- Procesos biológicos (e.g., el movimiento de un ente dentro de una célula, población bacteriana)\n",
    "- Caminos aleatorios (mas de esto mas adelante en el curso)\n",
    "- Procesos de Markov (mas de esto mas adelante en el curso)\n",
    "\n",
    "El poder de utilizar teorías de procesos estocásticos no es solamente relevante cuando la dinámica interna es aleatoria, si no también en casos donde la dinámica interna del proceso es **inherentemente determinística**.\n",
    "Por ejemplo, en el caso del movimiento Browniano la dinámica de una partícula en un fluido se puede entender desde primeros principios usando las cantidades microscópicas del sistema (conociendo interacciones, posiciones, masas, etc); sin embargo, esto puede ser un problema intratable. En su lugar, suponemos que el comportamiento sigue un proceso estocástico para hacer predicciones."
   ]
  },
  {
   "cell_type": "markdown",
   "metadata": {},
   "source": [
    "### Números pseudoaleatorios\n",
    "\n",
    "El uso de verdaderos números aleatorios es **impráctico** desde el punto de vista computacional.\n",
    "Esto se debe a que:\n",
    "- Los números aleatorios son muy costosos y difíciles de generar y manipular (una computadora clásica no puede generarlos),\n",
    "- no existe una forma rápida ni escalable de generarlos y\n",
    "- es complicado o impráctico generarlos bajo alguna distribución de probabilidad conocida.\n",
    "\n",
    "Por esta razón, usamos números **pseudoaleatorios**; los cuales, en principio, deben seguir las siguientes propiedades:\n",
    "* El número que sigue en una secuencia no puede predecirse\n",
    "* Existe una forma rápida de generarlos\n",
    "* El periodo es muy largo (recordemos que computacionalmente hablando, solamente podemos trabajar con espacios finitos)\n",
    "* No existen correlaciones estadísticas entre ellos\n",
    "* Es reproducible\n",
    "* Superan pruebas de aleatoriedad (existe un zoológico de estas pruebas que se pueden aplicar)\n",
    "\n",
    "La tarea al generar números pseudoaleatorios corresponde a **utilizar algoritmos determinísticos que producen secuencias de números que se comportan, desde la perspectiva estadística, como números verdaderamente aleatorios**"
   ]
  },
  {
   "cell_type": "markdown",
   "metadata": {},
   "source": [
    "### Generación de números pseudoaleatorios"
   ]
  },
  {
   "cell_type": "markdown",
   "metadata": {},
   "source": [
    "#### Generador lineal congruente (*LCG*)\n",
    "\n",
    "Una de las formas más fundamentales de generar números pseudoaleatorios corresponde al generador lineal congruente (Thompson & Rotenberg 1958). La secuencia de números se basa en la siguiente regla determinística:\n",
    "* $x_{i+1} = (ax_i + c) \\mod m$, donde $\\rm{mod}$ es la operación de división residual\n",
    "  - En `Python`, dicha operación se escribe `x[i+1] = (a*x[i] + c) % m`\n",
    "* $a, c$ y $m$ son constantes y números enteros\n",
    "* $x_0$ se conoce como el valor de inicialización (seed) y $m$ es un número entero. Generalmente, se escoge $m >> 1$, este valor determina el periodo de la secuencia\n",
    "  - La calidad de las secuencias generadas por el generador lineal congruente es muy sensible a la escogencia de los parámetros\n",
    "  - Se suelen buscar estos parámetros de forma empírica para satisfacer pruebas de aleatoriedad\n",
    "\n",
    "El generador lineal congruente funciona **relativamente bien** con una escogencia **apropiada** de sus **parámetros**, e increiblemente **mal** si estos **parámetros no se escogen bien**."
   ]
  },
  {
   "cell_type": "markdown",
   "metadata": {},
   "source": [
    "#### Implementación del LCG\n",
    "\n",
    "En `Python`, la implementación es muy sencilla. Veamos:"
   ]
  },
  {
   "cell_type": "code",
   "execution_count": null,
   "metadata": {},
   "outputs": [],
   "source": [
    "import numpy as np\n",
    "import matplotlib.pyplot as plt\n",
    "\n",
    "def lcg(N, seed = 11):\n",
    "    a = 1664525\n",
    "    c = 1013904223\n",
    "    m = 4294967296\n",
    "    sequence = np.zeros(N)\n",
    "    sequence[0] = seed\n",
    "    for i in range(1, N):\n",
    "        sequence[i] = (a * sequence[i - 1] + c) % m\n",
    "        \n",
    "    return sequence\n",
    "\n",
    "seq = lcg(100)\n",
    "plt.plot(seq, 'o')\n",
    "plt.show()"
   ]
  },
  {
   "cell_type": "markdown",
   "metadata": {},
   "source": [
    "Note que la secuencia solo genera números enteros, pero se pueden rescalar de forma muy sencilla para generar números en **cualquier rango de valores**.\n",
    "\n",
    "* Ventajas:\n",
    "  - Reproducible\n",
    "  - Extremadamente sencillo de implementar\n",
    "  - Periodos *relativamente* largos\n",
    "* Desventaja:\n",
    "  - La calidad de la secuencia es muy sensible al valor de inicialización y a los parámetros escogidos"
   ]
  },
  {
   "cell_type": "markdown",
   "metadata": {},
   "source": [
    "#### Generador Mersenne-Twister\n",
    "\n",
    "El generador Mersenne-Twister (Matsumoto & Nishimura 1997) es uno de los generadores mas ampliamente utilizados en simulaciones de sistemas físicos. Una de las razones mas importantes de por qué este es el caso se debe a su **robusta capacidad de aprobar distintas pruebas de aleatoriedad** y a su **largo periodo**.\n",
    "- La secuencia posee un periodo de $2^{19937} - 1$\n",
    "- La base del algoritmo depende de un espacio 624-dimensional y usa una transformación de rotación (*twist*) para alcanzar una distribución uniforme\n",
    "- Sumamente eficiente para simulaciones de gran escala y con propiedades de aleatoriedad de alta calidad\n",
    "- Adoptado en ambientes de computación científica  "
   ]
  },
  {
   "cell_type": "markdown",
   "metadata": {},
   "source": [
    "#### Implementación Mersenne-Twister\n",
    "\n",
    "La implementación del algoritmo Mersenne-Twister es bastante compleja. Sin embargo, podemos adoptar la implementación de `NumPy`, la cual tiene la ventaja que utiliza código compilado en su `backend`.\n",
    "\n",
    "En versiones previas a `NumPy 1.17`, el generador Mersenne-Twister era el generador por defecto. En nuevas versiones se utiliza un generador distinto. Para accesar el generador Mersenne-Twister se debe invocar el `constructor` del generador `MT19937`:"
   ]
  },
  {
   "cell_type": "code",
   "execution_count": null,
   "metadata": {},
   "outputs": [],
   "source": [
    "# Se crea una instancia del motor del generador:\n",
    "from numpy.random import Generator, MT19937\n",
    "\n",
    "rng_mt = Generator(MT19937(seed = 42))"
   ]
  },
  {
   "cell_type": "markdown",
   "metadata": {},
   "source": [
    "Para generar una secuencia uniforme en el intervalo [0, 1):"
   ]
  },
  {
   "cell_type": "code",
   "execution_count": null,
   "metadata": {},
   "outputs": [],
   "source": [
    "print(rng_mt.random(3))"
   ]
  },
  {
   "cell_type": "markdown",
   "metadata": {},
   "source": [
    "De la misma forma, se pueden generar números enteros usando:"
   ]
  },
  {
   "cell_type": "code",
   "execution_count": null,
   "metadata": {},
   "outputs": [],
   "source": [
    "print(rng_mt.integers(0, 10, 5))"
   ]
  },
  {
   "cell_type": "markdown",
   "metadata": {},
   "source": [
    "A su vez, se pueden generar números que sigan alguna distribución de probabilidad determinada."
   ]
  },
  {
   "cell_type": "markdown",
   "metadata": {},
   "source": [
    "#### Generador congruente permutado (*PCG*)\n",
    "\n",
    "En nuevas implementaciones del generador de números aleatorios de `NumPy` (versiones $\\geq 1.17$) se utiliza el generador congruente permutado de `64 bits` (O'Neill 2014). \n",
    "\n",
    "- EL PCG se considera igual de robusto a nivel estadístico que el generador Mersenne-Twister\n",
    "- El periodo de la secuencia máxima es de $2^{128}$ para el caso del generador de `64 bits`\n",
    "- Mejor soporte para cálculos en paralelo"
   ]
  },
  {
   "cell_type": "markdown",
   "metadata": {},
   "source": [
    "#### Implementación del PCG (64 bits)\n",
    "\n",
    "El PCG es ahora el generador por defecto usado en `NumPy`. Esto implica que se puede invocar usando la `API` usual (https://numpy.org/doc/stable/reference/random/index.html):"
   ]
  },
  {
   "cell_type": "code",
   "execution_count": null,
   "metadata": {},
   "outputs": [],
   "source": [
    "seq = np.random.uniform(0, 1, size = 5)\n",
    "\n",
    "print(seq)"
   ]
  },
  {
   "cell_type": "markdown",
   "metadata": {},
   "source": [
    "#### Ejercicio: Comparación de los algoritmos Mersenne-Twister y PCG\n",
    "\n",
    "Deseamos poner en comparación el algoritmo PCG frente al Mersenne-Twister. Realicemos una prueba primero una prueba estadística básica:"
   ]
  },
  {
   "cell_type": "code",
   "execution_count": null,
   "metadata": {},
   "outputs": [],
   "source": [
    "import numpy as np\n",
    "from numpy.random import Generator, PCG64, MT19937\n",
    "\n",
    "# Primero construimos los objetos de los generadores\n",
    "rng_pcg = Generator(PCG64(seed=42))\n",
    "rng_mt = Generator(MT19937(seed=42))\n",
    "\n",
    "# Luego generamos dos secuencias:\n",
    "data_pcg = rng_pcg.random(1000)\n",
    "data_mt = rng_mt.random(1000)\n",
    "\n",
    "# Y calculamos el promedio y la desviación estándar:\n",
    "mean_pcg = np.mean(data_pcg)\n",
    "std_pcg = np.std(data_pcg)\n",
    "mean_mt = np.mean(data_mt)\n",
    "std_mt = np.std(data_mt)\n",
    "\n",
    "print(\"PCG64 statistics:\")\n",
    "print(f\"  Mean: {mean_pcg:.6f}, Standard Deviation: {std_pcg:.6f}\")\n",
    "\n",
    "print(\"MT19937 statistics:\")\n",
    "print(f\"  Mean: {mean_mt:.6f}, Standard Deviation: {std_mt:.6f}\")"
   ]
  },
  {
   "cell_type": "markdown",
   "metadata": {},
   "source": [
    "Note que el promedio es cercano a $1/2$ como es de esperarse para una distribución uniforme mientras que la desviación estándar esperada también es la correcta ($1 / \\sqrt{12}$, mas de esto mas adelante)\n",
    "\n",
    "En particular, una ventaja de usar el PCG en lugar de Mersenne-Twister se debe a que su implementación es más sencilla y más eficiente.\n",
    "\n",
    "Comprobemos si este es el caso al generar una lista de números pseudoaleatorios mas grande:"
   ]
  },
  {
   "cell_type": "code",
   "execution_count": null,
   "metadata": {},
   "outputs": [],
   "source": [
    "import time\n",
    "\n",
    "# Números de la secuencia\n",
    "# Puede probar distintos tamaños de la secuencia:\n",
    "N = 1_000_000_000\n",
    "\n",
    "# Tiempos PCG\n",
    "# Se debe restablecer la semilla cada vez que se genera una secuencia si se desea reproducir,\n",
    "# esto se debe que generar una lista cambia el \"estado\" del sistema\n",
    "rng_pcg = Generator(PCG64(seed=42))\n",
    "start_time = time.time()\n",
    "data_pcg = rng_pcg.integers(low = 0, high = 10, size = N)\n",
    "pcg_time = time.time() - start_time\n",
    "# Tiempos Mersenne-Twister\n",
    "rng_mt = Generator(MT19937(seed=42))\n",
    "start_time = time.time()\n",
    "data_mt = rng_mt.integers(low = 0, high = 10, size = N)\n",
    "mt_time = time.time() - start_time\n",
    "\n",
    "print(f\"Time for PCG64 to generate {N} random numbers: {pcg_time:.4f} seconds\")\n",
    "print(f\"Time for MT19937 to generate {N} random numbers: {mt_time:.4f} seconds\")"
   ]
  },
  {
   "cell_type": "markdown",
   "metadata": {},
   "source": [
    "La eficiencia es similar. Note que en este caso estamos generando números enteros. Al generar números flotantes la eficiencia también debería ser similar. La eficiencia, en general, depende del `backend` instalado con `NumPy`.\n",
    "\n",
    "La ventaja del algoritmo PCG se debe a la simplicidad de su implementación y el soporte a la computación en paralelo, ya que los estados internos son mas sencillos para este tipo de procesamiento."
   ]
  },
  {
   "cell_type": "markdown",
   "metadata": {},
   "source": [
    "### Aplicaciones: Integración de Monte Carlo\n",
    "\n",
    "Una de las aplicaciones más básicas del uso de números pseudoaleatorios es el cálculo de integrales.\n",
    "\n",
    "Sea $g(x)$ una función continua. Deseamos encontrar \n",
    "$$\n",
    "\\theta = \\int_{0}^{1} {\\textrm{d}x}\\;g(x).\n",
    "$$\n",
    "La idea para calcular $\\theta$ corresponde a sustituir la integral por un **valor de expectación con base en una distribución de probababilidad (veremos este concepto formalmente en la próxima clase)**.\n",
    "De momento, basta decir que \n",
    "$$\n",
    "\\theta = E[g(U)],\n",
    "$$\n",
    "donde $U$ es una variable aleatoria distribuida uniformemente tal que $U \\in (0, 1)$. Si tenemos $N$ de estas variables $U_1, \\cdots, U_N$ distribuidas de forma idéntica y y uniforme (más de esto en la próxima clase); se satisface que \n",
    "$$\n",
    "\\sum_{i = 1}^{N} \\frac{g(U_i)}{N} \\to E[g(U)] = \\theta \\quad {\\textrm{cuando}}\\; N \\to \\infty.\n",
    "$$\n",
    "El poder de esta metodología yace en que la generalización a integrales multidimensionales es muy sencilla. En estos casos, tenemos\n",
    "$$\n",
    "\\theta = \\int_{0}^{1} \\int_{0}^{1} \\cdots \\int_{0}^{1} {\\textrm{d}x_1}\\cdots{\\textrm{d}x_n}\\; g(x_1, \\cdots, x_n) = E[g(U_1, \\cdots, U_n] = \\sum_{i = 1}^{N} \\frac{g(U_1^i, \\cdots, U_n^i)}{N}.\n",
    "$$\n",
    "Se debe asumir que las variables aleatorias están uniforme e identicamente distribuidas."
   ]
  },
  {
   "cell_type": "markdown",
   "metadata": {},
   "source": [
    "### Implementación\n",
    "\n",
    "Para implementar este método podemos usar números pseudoaleatorios generados de una distribución uniforme. Utilicemos el método para resolver\n",
    "$$\n",
    "\\theta = \\int_{0}^{1} \\int_{0}^{1} {\\textrm{d}x} {\\textrm{d}y}\\; e^{-(x^2 + y^2)} \\cos(5xy)\n",
    "$$\n",
    "Note que a pesar de que esta integral contiene funciones continuas, no posee una antiderivada con una forma cerrada elemental."
   ]
  },
  {
   "cell_type": "code",
   "execution_count": null,
   "metadata": {},
   "outputs": [],
   "source": [
    "import numpy as np\n",
    "import matplotlib.pyplot as plt\n",
    "from mpl_toolkits.mplot3d import Axes3D\n",
    "\n",
    "# Definimos la función g(x_1, x_2)\n",
    "funcG = lambda x1, x2: np.exp(-1.0 * ((x1 * x1) + (x2 * x2))) * np.cos(5.0 * x1 * x2)\n",
    "\n",
    "xVals = np.linspace(0, 1, 101)\n",
    "yVals = np.linspace(0, 1, 101)\n",
    "X, Y = np.meshgrid(xVals, yVals)\n",
    "Z = funcG(X, Y)\n",
    "\n",
    "fig = plt.figure()\n",
    "ax = fig.add_subplot(111, projection='3d')\n",
    "ax.plot_surface(X, Y, Z, cmap='coolwarm');"
   ]
  },
  {
   "cell_type": "markdown",
   "metadata": {},
   "source": [
    "Para la solución usando Monte Carlo, debemos generar una lista de $N$ números pseudoaleatorios **por cada variable independiente** (la dimensión $d$ de la función a integrar). En este caso, tenemos $d = 2$. Luego, tenemos que calcular el valor de expectación. Empecemos por definir una función que estima el valor de expectación.\n",
    "\n",
    "No es complicado generalizar una función para evaluar el valor de expectación para un valor $d$ en general, dependiendo de la estructura de datos; sin embargo, mantengamos la implementación sencilla y escribamos una función que evalúa el caso particular $d = 2$:"
   ]
  },
  {
   "cell_type": "code",
   "execution_count": null,
   "metadata": {},
   "outputs": [],
   "source": [
    "def exptValue2(func, nVal, rng):\n",
    "    x1 = rng.random(nVal)\n",
    "    x2 = rng.random(nVal)\n",
    "    gx = func(x1, x2)\n",
    "\n",
    "    return np.mean(gx)"
   ]
  },
  {
   "cell_type": "markdown",
   "metadata": {},
   "source": [
    "Ahora usamos esta función para estimar la integral para distintos valores de $N$:"
   ]
  },
  {
   "cell_type": "code",
   "execution_count": null,
   "metadata": {},
   "outputs": [],
   "source": [
    "rng = np.random.default_rng(seed = 11)\n",
    "\n",
    "nVals = np.logspace(start = 2, stop = 26, num = 20, base = 2).astype(int)\n",
    "print(nVals)\n",
    "estimatesGXY = np.zeros(nVals.size)\n",
    "for nn in range(nVals.size):\n",
    "    estimatesGXY[nn] = exptValue2(funcG, nVals[nn], rng)"
   ]
  },
  {
   "cell_type": "markdown",
   "metadata": {},
   "source": [
    "Y ahora visualizamos el resultado:"
   ]
  },
  {
   "cell_type": "code",
   "execution_count": null,
   "metadata": {},
   "outputs": [],
   "source": [
    "plt.xscale('log')\n",
    "plt.xlabel(\"$N$ (log scale)\")\n",
    "plt.ylabel(r\"$\\theta$\")\n",
    "plt.plot(nVals, estimatesGXY, '-o');"
   ]
  },
  {
   "cell_type": "markdown",
   "metadata": {},
   "source": [
    "Note que el resultado converge conforme $N \\to \\infty$. \n",
    "\n",
    "Es interesante estudiar como escala el error conforme $N \\to \\infty$. Tomemos un valor de aproximación para $N$ muy grande y asumamos que ese valor es el valor correcto de $\\theta$. Podemos evaluar el error relativo como función de $N$ usando\n",
    "$$\n",
    "\\textrm{Error}[\\theta(N)] = \\frac{|\\theta - \\theta(N)|}{\\theta}.\n",
    "$$\n",
    "Veamos:"
   ]
  },
  {
   "cell_type": "code",
   "execution_count": null,
   "metadata": {},
   "outputs": [],
   "source": [
    "# Este valor sigue siendo una aproximación. Asumamos que equivale al valor correcto solo para estimar el error relativo:\n",
    "trueVal = exptValue2(funcG, 10**8, rng) \n",
    "\n",
    "# Ahora construimos un vector para el error:\n",
    "errorEstimate = np.abs(trueVal - estimatesGXY) / trueVal\n",
    "\n",
    "plt.xscale('log')\n",
    "plt.yscale('log')\n",
    "plt.plot(nVals, errorEstimate, 'o');"
   ]
  },
  {
   "cell_type": "markdown",
   "metadata": {},
   "source": [
    "El resultado escala de forma lineal (con fluctuciones) en la escala logarítmica. Esto implica un comportamiento de ley de potencia. De hecho,\n",
    "$$\n",
    "\\textrm{Error} \\propto N^{-1/2}.\n",
    "$$\n",
    "Esto es un resultado importante que investigaremos más adelante. Veamos:"
   ]
  },
  {
   "cell_type": "code",
   "execution_count": null,
   "metadata": {},
   "outputs": [],
   "source": [
    "pot2 = lambda n: np.pow(n, -0.5)\n",
    "\n",
    "plt.xscale('log')\n",
    "plt.yscale('log')\n",
    "plt.plot(nVals, pot2(nVals));\n",
    "plt.plot(nVals, errorEstimate, 'o');"
   ]
  },
  {
   "cell_type": "markdown",
   "metadata": {},
   "source": [
    "### Ejercicio\n",
    "\n",
    "Utilice el método de Monte Carlo estudiado anteriormente para evaluar la integral \n",
    "$$\n",
    "\\theta = \\int_{0}^{\\infty} {\\textrm{d}x} \\frac{\\ln(1 + x)}{1 + x^2}.\n",
    "$$\n",
    "Identifique alguna forma de lidiar con la integral impropia y evalúe posibles complicaciones."
   ]
  }
 ],
 "metadata": {
  "anaconda-cloud": {},
  "kernelspec": {
   "display_name": "Python 3 (ipykernel)",
   "language": "python",
   "name": "python3"
  },
  "language_info": {
   "codemirror_mode": {
    "name": "ipython",
    "version": 3
   },
   "file_extension": ".py",
   "mimetype": "text/x-python",
   "name": "python",
   "nbconvert_exporter": "python",
   "pygments_lexer": "ipython3",
   "version": "3.13.5"
  }
 },
 "nbformat": 4,
 "nbformat_minor": 4
}

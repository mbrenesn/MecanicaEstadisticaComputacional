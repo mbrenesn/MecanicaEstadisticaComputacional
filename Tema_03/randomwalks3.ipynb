{
 "cells": [
  {
   "cell_type": "markdown",
   "metadata": {},
   "source": [
    "## Soluciones a la ecuación de difusión mediante análsis de Fourier y funciones de Green\n",
    "\n",
    "En nuestra lección anterior, justificamos la siguiente relación de recursión para la PMF de los caminos aleatorios:\n",
    "$$\n",
    "P\\{ X(N + 1) = x \\} = \\tfrac{1}{2} P\\{ X(N) = x - 1 \\} + \\tfrac{1}{2} P\\{ X(N) = x + 1 \\}.\n",
    "$$\n",
    "Note que, interesantemente, ¡no usamos una forma explícita de la PMF! Bastó con **propiedad de la PMF para derivar la ecuación de difusión.**\n",
    "\n",
    "La pregunta que nos hicimos estaba relacionada con el hecho de si podíamos encontrar una ecuación de movimiento, o una ley fundamental, con respecto a los caminos aleatorios y se necesita solamente la relación de recursión para llegar a esta regla. Esto se basa en nuestro deseo de entender cómo cambia el parámetro de espacio con respecto al parámetro de tiempo.\n",
    "\n",
    "Note que:\n",
    "- Obtuvimos una ecuación determinística para la densidad de probabilidad $\\rho(x, t)$. Internamente, dicha cantidad que tiene sentido físico es aleatoria; no obstante, su dinámica es **determinística**.\n",
    "- Existen otros ejemplos de este tipo de leyes, e.g., ecuación de Schrödinger, von Neumann, entre otras.\n",
    "- Recuerde que existe una sutileza al tomar el **límite continuo**. No podemos hacer $\\Delta x \\to 0$ y/o $\\Delta t \\to 0$ de forma independiente, debemos tomar $\\frac{(\\Delta x)^2}{\\Delta t} \\to {\\textrm{const.}}$ para obtener una relación de tasas de cambio correcta. \n",
    "\n",
    "Definiendo el coeficiente de difusión como\n",
    "$$\n",
    "D = \\frac{(\\Delta x)^2}{2 \\Delta t},\n",
    "$$\n",
    "encontramos la célebre ecuación de difusión\n",
    "$$\n",
    "\\boxed{\\;\\;\\frac{\\partial \\rho(x, t)}{\\partial t} = D \\frac{\\partial^2 \\rho(x, t)}{\\partial x^2},\\;}\n",
    "$$\n",
    "y, adicionalmente, entendimos la ley de escalamiento derivada por Einstein en 1905 para el movimiento Browniano\n",
    "$$\n",
    "E[(\\Delta x)^2] = 2 D t,\n",
    "$$\n",
    "lo cual implica una relación de como la varianza de las posiciones incrementa **linealmente en el tiempo**. "
   ]
  },
  {
   "cell_type": "markdown",
   "metadata": {},
   "source": [
    "### Soluciones al movimiento difusivo\n",
    "\n",
    "Con respecto a las soluciones del movimiento difusivo, ya tenemos dos resultados muy importantes que nos ayudan a comprender la dinámica:\n",
    "- Diferencias finitas: Las cuales nos dan una herramienta para entender el comportamiento de cualquier condición inicial\n",
    "- El teorema del límite central: En el límite continuo de $N \\to \\infty$ pasos del camino aleatorio, obtuvimos una PDF (note que en ese límite no hablamos de PMF) para el desplazamiento total, lo cual nos llevó a la distribución Gaussiana. **Este resultado ya corresponde a la solución a tiempo largos de la ecuación de difusión**.\n",
    "\n",
    "Nos queda entender:\n",
    "- (1) El rol de las condiciones iniciales y\n",
    "- (2) Un análisis detallado de la dependencia temporal.\n",
    "\n",
    "Existen distintas avenidas para entender los dos conceptos anteriores. En nuestra lección, usaremos **análisis de Fourier** y **funciones de Green**.  "
   ]
  },
  {
   "cell_type": "markdown",
   "metadata": {},
   "source": [
    "### Análisis de Fourier\n",
    "\n",
    "El análisis de Fourier no solamente nos deja entender los aspectos (1) y (2) descritos anteriormente, si no que a su vez nos deja comprender virtualmente el problema en espacio de números de onda. La ecuación que queremos entender está dada por\n",
    "$$\n",
    "\\frac{\\partial \\rho(x,t)}{\\partial t} = D \\frac{\\partial^2 \\rho(x,t)}{\\partial x^2},\n",
    "$$\n",
    "bajo la condición inicial general\n",
    "$$\n",
    "\\rho(x, 0) = \\rho_0(x)\n",
    "$$\n",
    "\n",
    "Definimos la transformada de Fourier la transformada de Fourier como\n",
    "$$\n",
    "\\widetilde{\\rho}(k,t) = \\mathcal{F}\\{\\rho(x,t)\\}(k) \\equiv \\int_{-\\infty}^{\\infty} {\\textrm{d}}x\\,\\rho(x,t)\\,e^{-i k x},\n",
    "$$\n",
    "y su respectiva transformada inversa\n",
    "$$\n",
    "\\rho(x,t) = \\mathcal{F}^{-1}\\{\\widetilde{\\rho}(k,t)\\}(x) \\equiv \\frac{1}{2\\pi}\\int_{-\\infty}^{\\infty} {\\textrm{d}}k\\,\\widetilde{\\rho}(k,t)\\,e^{i k x}.\n",
    "$$\n",
    "Note que estamos aplicando la transformada de Fourier sobre la coordenada espacial. Adicionalmente, esta transformada se define de distintas formas en la literatura, particularmente con respecto a los factores $2\\pi$ (cuidado con esto).\n",
    "\n",
    "La transformada posee las siguientes propiedades que usaremos sin demostración:\n",
    "- Linealidad: $\\mathcal{F}\\{a f + b g\\} = a\\widetilde f + b\\widetilde g$.\n",
    "- Derivada espacial ↔ multiplicación por $i k$:\n",
    "  $$\n",
    "  \\mathcal{F}\\{\\partial_x^n \\rho(x, t)\\}(k) = (i k)^n \\widetilde \\rho(k, t).\n",
    "  $$\n",
    "- Convolución ↔ producto:\n",
    "  $$\n",
    "  \\mathcal{F}\\{f * g\\} = \\widetilde f\\,\\widetilde g.\n",
    "  $$\n",
    "\n",
    "Estas igualdades son válidas si $\\rho(x,t)$ y sus derivadas son funciones integrables.\n",
    "\n",
    "Ahora el paso clave corresponde a aplicar la transformada de Fourier $\\mathcal{F}$ espacial a nuestra ecuación diferencial:\n",
    "$$\n",
    "\\mathcal{F}\\{\\partial_t \\rho\\}(k,t) = D\\,\\mathcal{F}\\{\\partial_x^2 \\rho\\}(k,t).\n",
    "$$\n",
    "La transformada conmuta con la derivada temporal por independencia, entonces\n",
    "$$\n",
    "\\partial_t \\widetilde \\rho(k,t) = D\\,(i k)^2 \\widetilde \\rho(k,t) = -D k^2 \\widetilde \\rho(k,t).\n",
    "$$\n",
    "Ahora obtenemos **ecuación diferencial ordinaria (ODE) en $t$** para cada $k$:\n",
    "$$\n",
    "\\frac{{\\textrm{d}}}{{\\textrm{d}}t}\\widetilde \\rho(k,t) = -D k^2 \\widetilde \\rho(k,t),\\qquad \\widetilde \\rho(k,0)=\\widetilde \\rho_0(k),\n",
    "$$\n",
    "donde \n",
    "$$\n",
    "\\widetilde \\rho_0(k) = \\int_{-\\infty}^{\\infty} {\\textrm{d}}x\\,\\rho(x,0)\\,e^{-i k x},\n",
    "$$\n",
    "corresponde a **los coeficientes de Fourier de la condición inicial**.\n",
    "\n",
    "La ODE lineal se integra de forma directa para obtener:\n",
    "$$\n",
    "\\boxed{\\widetilde \\rho(k,t) = \\widetilde \\rho_0(k)\\, e^{-D k^2 t}.}\n",
    "$$\n",
    "¡Esto nos da una interpretación bellísima de lo que ocurre en el espacio de números de onda! \n",
    "- El efecto de la difusión corresponde a tomar los **modos altos en $k$ y atenuarlos exponencialmente**, i.e., los modos altos decaen más rapido. Estos modos usualmente corresponden a los detalles más finos de la condición inicial. Note que a mayores valores para el coeficiente de difusión, dicho procedimiento de **acercamiento al equilibrio** ocurre a tiempos menores.\n",
    "- Las soluciones corresponden a **ondas planas**. Esto es un resultado importante que emerge de la **simetría de invariancia de traslación**. Esto se entiende observando que para nuestra ecuación diferencial, si tenemos una solución $\\rho(x, t)$ para alguna condición inicial $\\rho(x, 0)$, entonces $\\rho(x - \\Delta, t)$ también es una solución para la condición inicial original pero trasladada a la derecha, i.e., $\\rho(x - \\Delta, 0)$. En general, dicha simetría da lugar a soluciones del tipo ondas planas.\n",
    "- Note que la solución anterior corresponde a **una sola solución para $k$, es decir, una onda plana**. La solución general corresponde a una suma de todas posibles ondas planas para cada valor de $k$, i.e., la transformada inversa de Fourier.\n",
    "\n",
    "Luego,\n",
    "$$\n",
    "\\boxed{\\rho(x, t) = \\frac{1}{2\\pi}\\int_{-\\infty}^{\\infty} {\\textrm{d}}k\\,\\widetilde \\rho_0(k)\\, e^{-D k^2 t}\\,e^{i k x}.}\n",
    "$$\n",
    "Con excepción de algunos casos puntuales, esta solución se suele evaluar de manera numérica."
   ]
  },
  {
   "cell_type": "markdown",
   "metadata": {},
   "source": [
    "### Observaciones para el caso discreto y dominios finitos\n",
    "\n",
    "- En un dominio periódico $[-L/2,L/2]$ con condiciones periódicas, reemplazamos la transformada continua por series de Fourier:\n",
    "  $$\n",
    "  \\rho(x,t) = \\sum_{n\\in\\mathbb{Z}} \\hat \\rho_n(t) e^{i k_n x},\\qquad k_n = \\frac{2\\pi n}{L},\n",
    "  $$\n",
    "  y la evolución con respecto a los modos es $\\hat \\rho_n(t)=\\hat \\rho_n(0)e^{-D k_n^2 t}$.\n",
    "- La implementación computacional usa FFT (*fast Fourier transforms*): muestreamos $\\rho_0$ en $N$ puntos, aplicamos `fft`, multiplicamos por $\\exp(-D k^2 t)$ y hacemos `ifft`. Se debe tener cuidado con respecto a la resolución: la máxima frecuencia representable es $k_{\\max}\\sim\\pi/\\Delta x$."
   ]
  },
  {
   "cell_type": "markdown",
   "metadata": {},
   "source": [
    "### Funciones de Green\n",
    "\n",
    "Desde cierta perspectiva, las funciones de Green se pueden considerar como **la respuesta que posee un operador diferencial ante un impulso**. Mientras que el análisis de Fourier nos da una solución directa al problema; en general, las funciones de Green se utilizan para comprender con resultados analíticos las soluciones a distintos modelos. Este es el caso en muchas aplicaciones de la ciencia cuántica, e.g., sistemas de muchos cuerpos, funciones de respuesta, teoría cuántica de campos, entre otras.\n",
    "\n",
    "La función de Green responde a la pregunta de cómo se comporta el sistema bajo la condición inicial en la todo se concentra en un punto en el espacio. Esto corresponde a atacar el *caso puntual*. \n",
    "\n",
    "Para el caso específico de donde la concentración inicial está en el origen, tenemos $\\rho(x, 0)$ es cero en todo lugar menos en $\\rho(0, 0)$, sin embargo, se tiene que satisfacer que\n",
    "$$\n",
    "\\int_{-\\infty}^{\\infty} {\\textrm{d}}x\\,\\rho(x, 0) = 1\n",
    "$$\n",
    "dado que $\\rho$ representa una densidad de probabilidad. La única distribución que satisface esta condición es la **delta de Dirac $\\delta(x)$**. De forma general, la delta de Dirac satisface\n",
    "$$\n",
    "\\int_{-\\infty}^{\\infty} {\\textrm{d}}x\\,f(x) \\delta(x - x_0) = f(x_0)\n",
    "$$\n",
    "definamos la función de Green $G(x, t; x_0, t_0)$ como la evolución temporal de la densidad de probabilidad tal que la densidad inicial corresponde a una delta de Dirac en la posición $x_0$ al tiempo $t_0$. Naturalmente, la función de Green **debe satisfacer la ecuación de difusión**, dado que corresponde a una solución bajo una condición inicial específica:\n",
    "$$\n",
    "\\frac{\\partial G(x, t; x_0, t_0)}{\\partial t} = D \\frac{\\partial^2 G(x, t; x_0, t_0)}{\\partial x^2}.\n",
    "$$\n",
    "Pero estas soluciones ya han sido evaluadas anteriormente. Ahora tenemos el caso particular donde, para $t_0 = 0$\n",
    "$$\n",
    "\\rho(x, t_0 = 0) = \\rho_0(x) = \\delta(x - x_0),\n",
    "$$\n",
    "con lo cual obtenemos\n",
    "$$\n",
    "\\widetilde \\rho_0(k) = e^{-ikx_0}.\n",
    "$$\n",
    "Sustituyendo en la solución general del análisis de Fourier\n",
    "$$\n",
    "G(x, t; x_0, t_0 = 0) = \\frac{1}{2\\pi}\\int_{-\\infty}^{\\infty} {\\textrm{d}}k\\, e^{-ikx_0} e^{-Dk^2 t} e^{ikx}\n",
    "= \\frac{1}{2\\pi}\\int_{-\\infty}^{\\infty} {\\textrm{d}}k\\, e^{-Dk^2 t} e^{ik(x-x_0)}.\n",
    "$$\n",
    "Esta integral se puede resolver analíticamente completando cuadrados con respecto a $k$ y su resultado es\n",
    "$$\n",
    "\\int_{-\\infty}^{\\infty} {\\textrm{d}}k\\, e^{-a k^2 + b k} = \\sqrt{\\frac{\\pi}{a}} e^{b^2/(4a)},\\qquad {\\textrm{Real}}[a] > 0.\n",
    "$$\n",
    "Tomando $a = Dt$ y $b = i(x-x_0)$ obtenemos\n",
    "\n",
    "$$\n",
    "\\boxed{G(x, t; x_0, t_0 = 0) = \\frac{1}{2\\pi}\\sqrt{\\frac{\\pi}{D t}} \\exp\\!\\Big(-\\frac{(x-x_0)^2}{4Dt}\\Big)\n",
    "= \\frac{1}{\\sqrt{4\\pi D t}} \\exp\\!\\Big(-\\frac{(x-x_0)^2}{4Dt}\\Big).}\n",
    "$$\n",
    "Esta es la función de Green o **kernel** del sistema.\n",
    "- Note como la función de Green representa un sistema Gaussiano, algo que entendimos desde el punto de vista de la **universalidad**.\n",
    "\n",
    "Para la solución del problema en general, usando una condición inicial genérica, podemos usar la condición de invariancia traslacional. \n",
    "\n",
    "Sabemos que la evolución temporal de cualquier camino aleatorio al punto $y$ con condición inicial \n",
    "$$\n",
    "\\delta(x - y)\n",
    "$$\n",
    "es \n",
    "$$\n",
    "G(x - y, t).\n",
    "$$\n",
    "Cualquier condición inicial $\\rho(x, 0)$ se puede expresar como una superposición de funciones $\\delta$, tal que\n",
    "$$\n",
    "\\rho(x, 0) = \\int {\\textrm{d}}y\\,\\rho(y, 0) \\delta(x - y) = \\int {\\textrm{d}}y\\,\\rho(y, 0) G(x - y, 0). \n",
    "$$\n",
    "La evolución temporal sigue directamente con la evolución temporal de la función de Green:\n",
    "$$\n",
    "\\rho(x, y) = \\int {\\textrm{d}}y\\,\\rho(y, 0) G(x - y, t) = \\int {\\textrm{d}}y\\,\\rho(y, 0) \\frac{e^{-(x-y)^2 / 4Dt}}{\\sqrt{4\\pi D t}}.\n",
    "$$\n",
    "Esto es básicamente la **convolución de la función de Green con la condición inicial**.\n",
    "- A nivel físico, esta ecuación implica que el valor de la densidad de probabilidad en cualquier punto $x$ a cualquier valor $t$ corresponde al valor inicial de la densidad **esparcida hacia los lados con la función $G$**.\n",
    "- Dado que $\\rho$ es una superpocisión de **puntos fuente**, la distribución de probabilidad después de un tiempo $t$ corresponde a la condición inicial promediada una distancia característica $\\sqrt{2Dt}$.\n",
    "\n",
    "Nuestra formulación se extiende a $d$ dimensiones sustituyendo $x\\mapsto\\mathbf r\\in\\mathbb{R}^d$ y $\\nabla^2$ por el Laplaciano. El kernel Gaussiano multidimensional es\n",
    "\n",
    "$$\n",
    "G(\\mathbf r,t;\\mathbf r_0,0) = \\frac{1}{(4\\pi D t)^{d/2}} \\exp\\!\\Big(-\\frac{|\\mathbf r-\\mathbf r_0|^2}{4Dt}\\Big).\n",
    "$$\n",
    "Para el caso general, se cumple que $E[ |\\mathbf r|^2 ] = 2 d D t$ para $\\mathbf r_0=0$."
   ]
  },
  {
   "cell_type": "markdown",
   "metadata": {},
   "source": [
    "### Soluciones computacionales 2 (*fast Fourier transforms*)\n",
    "\n",
    "Resolvamos el mismo problema de la lección anterior, pero ahora utilizando transformadas de Fourier. En esquemas computacionales, no se utiliza una implementación *ingenua* de las transformadas de Fourier dado que esto da lugar a un algoritmo muy ineficiente. Las FFTs aprovechan de varias simetrías del problema para reducir la complejidad de la transformada de $O(N^2)$ a $O(N \\log N)$. No entraremos en detalle en este algoritmo, basta con saber que la transformada de Fourier implica resolver la integral de la transformada en el espacio discreto. \n",
    "\n",
    "El módulo `numpy.fft` implementa la FFT directamente. Veamos como resolver el problema.\n",
    "\n",
    "Queremos resolver\n",
    "$$\n",
    "\\frac{\\partial \\rho(x,t)}{\\partial t} = D \\frac{\\partial^2 \\rho(x,t)}{\\partial x^2},\n",
    "$$\n",
    "para lo cual necesitamos evaluar\n",
    "$$\n",
    "\\rho(x, t) = \\frac{1}{2\\pi}\\int_{-\\infty}^{\\infty} {\\textrm{d}}k\\,\\widetilde \\rho_0(k)\\, e^{-D k^2 t}\\,e^{i k x},\n",
    "$$\n",
    "donde $\\rho_0(k)$ corresponde a la transformada de Fourier de la condición inicial.\n",
    "- ¡Note el poder de esta metodología comparada con el método de diferencias finitas FTCS de la lección anterior!:\n",
    "    * Con diferencias finitas, debemos conocer la solución en el tiempo anterior para determinar la solución en el tiempo siguiente.\n",
    "    * Con el método de Fourier y/o funciones de Green, basta con realizar la transformada una vez para obtener la solución a cualquier tiempo $t$.\n",
    "\n",
    "Usemos la condición inicial del problema de la lección anterior, una Gaussiana muy delgada que se asemeja a una delta de Dirac. Recuerde que la metodología funciona para cualquier condición inicial. Veamos:"
   ]
  },
  {
   "cell_type": "code",
   "execution_count": 1,
   "metadata": {},
   "outputs": [],
   "source": [
    "import numpy as np\n",
    "import matplotlib.pyplot as plt\n",
    "\n",
    "# Dado que estamos en un ambiente integrado, podemos usar variables globales\n",
    "# Definamos los parámetros de la simulación\n",
    "# Juegue con estos parámetros:\n",
    "dDifusion = 1.0 # constante de difusión\n",
    "t_obs = 1.0 # valor del tiempo a obtener la solución\n",
    "L = 40 # longitud de la grilla espacial (en unidades espaciales)\n",
    "dx = 0.2 # espaciamiento espacial"
   ]
  },
  {
   "cell_type": "markdown",
   "metadata": {},
   "source": [
    "Ahora generamos la grilla espacial para el problema como lo hicimos anteriormente:"
   ]
  },
  {
   "cell_type": "code",
   "execution_count": 2,
   "metadata": {},
   "outputs": [],
   "source": [
    "x = np.arange(-L, L+dx, dx)\n",
    "nPoints = x.size # tamaño de la grilla sobre la cual haremos la FFT"
   ]
  },
  {
   "cell_type": "markdown",
   "metadata": {},
   "source": [
    "Ahora usemos la condición inicial que conocemos:"
   ]
  },
  {
   "cell_type": "code",
   "execution_count": 3,
   "metadata": {},
   "outputs": [],
   "source": [
    "sigma0 = 0.3\n",
    "p0 = np.exp(-x**2 / (2*sigma0**2))\n",
    "p0 = p0 / (p0.sum() * dx)   # La normalización se toma de esta forma por ser una grilla discreta\n",
    "                            # El dx se requiere para normalizar la \"integral\" a 1 (entre comillas, dado que sería más una suma\n",
    "                            # de Riemann que una integral continua)"
   ]
  },
  {
   "cell_type": "markdown",
   "metadata": {},
   "source": [
    "Ahora, debemos tomar la transformada de Fourier de la condición inicial y definir el espacio de longitudes de onda, la cual podemos obtener de la implementación de `numpy`. Veamos:"
   ]
  },
  {
   "cell_type": "code",
   "execution_count": 4,
   "metadata": {},
   "outputs": [],
   "source": [
    "kVals = 2.0 * np.pi * np.fft.fftfreq(nPoints, d=dx) # El factor 2pi se debe agregar por la convención usada en numpy\n",
    "p0_tilde = np.fft.fft(p0)"
   ]
  },
  {
   "cell_type": "markdown",
   "metadata": {},
   "source": [
    "Ahora debemos multiplicar por el término de *atenuación*, i.e., el término dependiente del tiempo:"
   ]
  },
  {
   "cell_type": "code",
   "execution_count": 5,
   "metadata": {},
   "outputs": [],
   "source": [
    "factTemp = np.exp(-dDifusion * (kVals**2) * t_obs) # para esto necesitamos el arreglo de longitudes de onda\n",
    "p0_tilde_temp = p0_tilde * factTemp"
   ]
  },
  {
   "cell_type": "markdown",
   "metadata": {},
   "source": [
    "¡Note que usando la expresión anterior podemos encontrar la solución a cualquier valor temporal! Ahora solo falta obtener la transformada inversa de Fourier de este objeto para obtener la solución:"
   ]
  },
  {
   "cell_type": "code",
   "execution_count": 6,
   "metadata": {},
   "outputs": [],
   "source": [
    "rhoXT = np.real(np.fft.ifft(p0_tilde_temp)) # note que consideramos solo la parte real\n",
    "                                            # para nuestro problema, la parte imaginaria debería de ser cero"
   ]
  },
  {
   "cell_type": "markdown",
   "metadata": {},
   "source": [
    "Comparemos esto con la solución analítica que ya conocemos de la ley de universalidad:"
   ]
  },
  {
   "cell_type": "code",
   "execution_count": 7,
   "metadata": {},
   "outputs": [],
   "source": [
    "pan = (1.0 / np.sqrt(4 * np.pi * dDifusion * t_obs)) * np.exp(-x**2 / (4 * dDifusion * t_obs))"
   ]
  },
  {
   "cell_type": "code",
   "execution_count": 8,
   "metadata": {},
   "outputs": [
    {
     "name": "stdout",
     "output_type": "stream",
     "text": [
      "1.0000000000000142\n",
      "1.0000000000000142\n"
     ]
    },
    {
     "data": {
      "image/png": "[encoded data removed]",
      "text/plain": [
       "<Figure size 640x480 with 1 Axes>"
      ]
     },
     "metadata": {},
     "output_type": "display_data"
    }
   ],
   "source": [
    "# Normalicemos las distribuciones para comparar\n",
    "# Las distribuciones finales si deben ser normalizadas!\n",
    "rhoXT = rhoXT / (np.sum(rhoXT) * dx)\n",
    "pan = pan / (np.sum(pan) * dx)\n",
    "\n",
    "plt.plot(x, rhoXT)\n",
    "plt.plot(x, pan, 'o')\n",
    "\n",
    "# Integrales para asegurarnos normalización\n",
    "print(np.trapezoid(rhoXT, x = x))\n",
    "print(np.trapezoid(pan, x = x))"
   ]
  },
  {
   "cell_type": "markdown",
   "metadata": {},
   "source": [
    "El método de Fourier y/o funciones de Green es muchísimo más poderoso que usar diferencias finitas a nivel de estabilidad numérica y computación. Esto se debe a que nos permite evaluar la solución a cualquier valor temporal sin conocer la solución en algún tiempo cercano anterior."
   ]
  },
  {
   "cell_type": "markdown",
   "metadata": {},
   "source": [
    "### Ejercicio (inviariancia de escala)\n",
    "\n",
    "La ecuación de difusión unidimensional\n",
    "$$\n",
    "\\rho_t = D\\,\\rho_{xx}\n",
    "$$\n",
    "es invariante bajo la transformación de escala\n",
    "$$\n",
    "x \\to \\lambda x, \\quad t \\to \\lambda^2 t, \\quad \\rho \\to \\frac{1}{\\lambda}\\,\\rho\n",
    "$$\n",
    "Esto significa que si $\\rho(x,t)$ es solución, entonces también lo es\n",
    "$$\n",
    "\\rho_\\lambda(x,t) = \\frac{1}{\\lambda}\\,\\rho\\!\\left(\\frac{x}{\\lambda}, \\frac{t}{\\lambda^2}\\right)\n",
    "$$\n",
    "Para la condición inicial puntual $\\rho(x,0) = \\delta(x)$, la solución es\n",
    "$$\n",
    "\\rho(x,t) = \\frac{1}{\\sqrt{4\\pi D t}}\\,\\exp\\!\\left(-\\frac{x^2}{4 D t}\\right).\n",
    "$$\n",
    "Si escalamos el tiempo como $t \\to \\lambda^2 t$, el perfil se ensancha por un factor $\\lambda$ y la amplitud decrece como $1/\\lambda$, conservando la norma total:\n",
    "$$\n",
    "\\int_{-\\infty}^{\\infty} \\rho(x,t)\\,dx = 1\n",
    "$$\n",
    "Procedamos a definir las variables adimensionales\n",
    "$$\n",
    "\\xi = \\frac{x}{\\sqrt{t}}, \\qquad v(\\xi) = \\sqrt{t}\\,\\rho(x,t)\n",
    "$$\n",
    "De modo que de forma **autosemejante**, se cumple que\n",
    "$$\n",
    "v(\\xi) = \\frac{1}{\\sqrt{4\\pi D}}\\,e^{-\\xi^2/(4D)}\n",
    "$$\n",
    "En estas variables, todas las soluciones a distintos tiempos deben colapsar en una sola curva. Realice un gráfico de $v$ con respecto a $\\xi$ **para varios tiempos** usando el método de Fourier, con el fin de verificar si existe un colapso autosimilar de la dinámica."
   ]
  }
 ],
 "metadata": {
  "anaconda-cloud": {},
  "kernelspec": {
   "display_name": "Python 3 (ipykernel)",
   "language": "python",
   "name": "python3"
  },
  "language_info": {
   "codemirror_mode": {
    "name": "ipython",
    "version": 3
   },
   "file_extension": ".py",
   "mimetype": "text/x-python",
   "name": "python",
   "nbconvert_exporter": "python",
   "pygments_lexer": "ipython3",
   "version": "3.13.5"
  }
 },
 "nbformat": 4,
 "nbformat_minor": 4
}
